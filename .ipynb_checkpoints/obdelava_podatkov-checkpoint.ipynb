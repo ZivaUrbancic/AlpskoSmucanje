{
 "cells": [
  {
   "cell_type": "markdown",
   "metadata": {},
   "source": [
    "# Alpsko smučanje"
   ]
  },
  {
   "cell_type": "markdown",
   "metadata": {},
   "source": [
    "### Obdelava podatkov"
   ]
  },
  {
   "cell_type": "code",
   "execution_count": 1,
   "metadata": {
    "collapsed": false
   },
   "outputs": [],
   "source": [
    "%matplotlib inline\n",
    "\n",
    "import pandas as pd\n",
    "import matplotlib.pyplot as plt\n",
    "import numpy as py\n",
    "#import scipy\n",
    "\n",
    "# Make the graphs a bit prettier, and bigger\n",
    "#pd.set_option('display.mpl_style', 'default')\n",
    "#plt.rcParams['figure.figsize'] = (15, 5)\n",
    "\n",
    "\n",
    "# This is necessary to show lots of columns in pandas 0.12. \n",
    "# Not necessary in pandas 0.13.\n",
    "pd.set_option('display.width', 5000) \n",
    "pd.set_option('display.max_columns', 60)"
   ]
  },
  {
   "cell_type": "markdown",
   "metadata": {},
   "source": [
    "Najprej sem spletne strani [FIS](http://www.fis-ski.com/alpine-skiing/athletes/) pobrala podatke o smučarjih in njihovih id številkah na spletišču FIS. Id-je sem potrebovala za sestavljanje url naslovov posameznih športnikov. Zbrane podatke sem nato spravila v datoteko smucarji.csv."
   ]
  },
  {
   "cell_type": "code",
   "execution_count": 2,
   "metadata": {
    "collapsed": false
   },
   "outputs": [],
   "source": [
    "pot=\"C://Users/Ziva/Documents/AlpineSkiing/csv-datoteke/smucarji.csv\"\n",
    "smucarji = pd.read_csv(pot, parse_dates=['rojstvo'])"
   ]
  },
  {
   "cell_type": "markdown",
   "metadata": {},
   "source": [
    "Tabela izgleda tako:"
   ]
  },
  {
   "cell_type": "code",
   "execution_count": 3,
   "metadata": {
    "collapsed": false
   },
   "outputs": [
    {
     "data": {
      "text/html": [
       "<div>\n",
       "<table border=\"1\" class=\"dataframe\">\n",
       "  <thead>\n",
       "    <tr style=\"text-align: right;\">\n",
       "      <th></th>\n",
       "      <th>id</th>\n",
       "      <th>ime</th>\n",
       "      <th>drzava</th>\n",
       "      <th>rojstvo</th>\n",
       "      <th>smuci</th>\n",
       "    </tr>\n",
       "  </thead>\n",
       "  <tbody>\n",
       "    <tr>\n",
       "      <th>0</th>\n",
       "      <td>70206</td>\n",
       "      <td>ABDERHALDEN  Marianne</td>\n",
       "      <td>SUI</td>\n",
       "      <td>1986-01-04</td>\n",
       "      <td>Head</td>\n",
       "    </tr>\n",
       "    <tr>\n",
       "      <th>1</th>\n",
       "      <td>148274</td>\n",
       "      <td>AERNI  Luca</td>\n",
       "      <td>SUI</td>\n",
       "      <td>1993-03-27</td>\n",
       "      <td>Salomon</td>\n",
       "    </tr>\n",
       "    <tr>\n",
       "      <th>2</th>\n",
       "      <td>166907</td>\n",
       "      <td>AGER  Christina</td>\n",
       "      <td>AUT</td>\n",
       "      <td>1995-11-11</td>\n",
       "      <td>Atomic</td>\n",
       "    </tr>\n",
       "    <tr>\n",
       "      <th>3</th>\n",
       "      <td>137008</td>\n",
       "      <td>AGNELLI  Nicole</td>\n",
       "      <td>ITA</td>\n",
       "      <td>1992-02-25</td>\n",
       "      <td>Elan</td>\n",
       "    </tr>\n",
       "    <tr>\n",
       "      <th>4</th>\n",
       "      <td>139437</td>\n",
       "      <td>ALOPINA  Ksenia</td>\n",
       "      <td>RUS</td>\n",
       "      <td>1992-05-30</td>\n",
       "      <td>Rossignol</td>\n",
       "    </tr>\n",
       "    <tr>\n",
       "      <th>5</th>\n",
       "      <td>163567</td>\n",
       "      <td>ALPHAND  Estelle</td>\n",
       "      <td>FRA</td>\n",
       "      <td>1995-04-23</td>\n",
       "      <td>Dynastar</td>\n",
       "    </tr>\n",
       "    <tr>\n",
       "      <th>6</th>\n",
       "      <td>125750</td>\n",
       "      <td>ANKENY  Michael</td>\n",
       "      <td>USA</td>\n",
       "      <td>1991-01-17</td>\n",
       "      <td>Nordica</td>\n",
       "    </tr>\n",
       "    <tr>\n",
       "      <th>7</th>\n",
       "      <td>80000</td>\n",
       "      <td>BAECK  Axel</td>\n",
       "      <td>SWE</td>\n",
       "      <td>1987-12-23</td>\n",
       "      <td>Rossignol</td>\n",
       "    </tr>\n",
       "    <tr>\n",
       "      <th>8</th>\n",
       "      <td>120086</td>\n",
       "      <td>BAILET  Margot</td>\n",
       "      <td>FRA</td>\n",
       "      <td>1990-07-25</td>\n",
       "      <td>Salomon</td>\n",
       "    </tr>\n",
       "    <tr>\n",
       "      <th>9</th>\n",
       "      <td>104084</td>\n",
       "      <td>BALLERIN  Andrea</td>\n",
       "      <td>ITA</td>\n",
       "      <td>1989-01-02</td>\n",
       "      <td>Fischer</td>\n",
       "    </tr>\n",
       "  </tbody>\n",
       "</table>\n",
       "</div>"
      ],
      "text/plain": [
       "       id                    ime drzava    rojstvo      smuci\n",
       "0   70206  ABDERHALDEN  Marianne    SUI 1986-01-04       Head\n",
       "1  148274            AERNI  Luca    SUI 1993-03-27    Salomon\n",
       "2  166907        AGER  Christina    AUT 1995-11-11     Atomic\n",
       "3  137008        AGNELLI  Nicole    ITA 1992-02-25       Elan\n",
       "4  139437        ALOPINA  Ksenia    RUS 1992-05-30  Rossignol\n",
       "5  163567       ALPHAND  Estelle    FRA 1995-04-23   Dynastar\n",
       "6  125750        ANKENY  Michael    USA 1991-01-17    Nordica\n",
       "7   80000            BAECK  Axel    SWE 1987-12-23  Rossignol\n",
       "8  120086         BAILET  Margot    FRA 1990-07-25    Salomon\n",
       "9  104084       BALLERIN  Andrea    ITA 1989-01-02    Fischer"
      ]
     },
     "execution_count": 3,
     "metadata": {},
     "output_type": "execute_result"
    }
   ],
   "source": [
    "smucarji[:10]"
   ]
  },
  {
   "cell_type": "markdown",
   "metadata": {},
   "source": [
    "Nato sem za vsakega od tekmovalcev s strani z njegovimi rezultati (npr. [Eva-Maria Brem](http://data.fis-ski.com/dynamic/athlete-biography.html?sector=AL&listid=&competitorid=94808&type=result&rec_start=0&limit=100)) pobrala podatke o vsaki tekmi: datum, prizorišče, disciplino, uvrstitev, zaostanek."
   ]
  },
  {
   "cell_type": "code",
   "execution_count": 4,
   "metadata": {
    "collapsed": false
   },
   "outputs": [],
   "source": [
    "pot_brem = \"C:/Users/Ziva/Documents/AlpineSkiing/csv-datoteke/BREM  Eva-Maria.csv\"\n",
    "brem = pd.read_csv(pot_brem, parse_dates=['datum'])"
   ]
  },
  {
   "cell_type": "markdown",
   "metadata": {},
   "source": [
    "Tabela za Evo-Mario Brem:"
   ]
  },
  {
   "cell_type": "code",
   "execution_count": 5,
   "metadata": {
    "collapsed": false
   },
   "outputs": [
    {
     "data": {
      "text/html": [
       "<div>\n",
       "<table border=\"1\" class=\"dataframe\">\n",
       "  <thead>\n",
       "    <tr style=\"text-align: right;\">\n",
       "      <th></th>\n",
       "      <th>datum</th>\n",
       "      <th>kraj</th>\n",
       "      <th>disciplina</th>\n",
       "      <th>mesto</th>\n",
       "      <th>zaostanek</th>\n",
       "    </tr>\n",
       "  </thead>\n",
       "  <tbody>\n",
       "    <tr>\n",
       "      <th>0</th>\n",
       "      <td>2016-03-20</td>\n",
       "      <td>St. Moritz</td>\n",
       "      <td>Giant Slalom</td>\n",
       "      <td>4</td>\n",
       "      <td>7.78</td>\n",
       "    </tr>\n",
       "    <tr>\n",
       "      <th>1</th>\n",
       "      <td>2016-07-03</td>\n",
       "      <td>Jasna</td>\n",
       "      <td>Giant Slalom</td>\n",
       "      <td>1</td>\n",
       "      <td>0.00</td>\n",
       "    </tr>\n",
       "    <tr>\n",
       "      <th>2</th>\n",
       "      <td>2016-06-03</td>\n",
       "      <td>Jasna</td>\n",
       "      <td>Slalom</td>\n",
       "      <td>26</td>\n",
       "      <td>46.21</td>\n",
       "    </tr>\n",
       "    <tr>\n",
       "      <th>3</th>\n",
       "      <td>2016-02-15</td>\n",
       "      <td>Crans Montana</td>\n",
       "      <td>Slalom</td>\n",
       "      <td>DNQ1</td>\n",
       "      <td>NaN</td>\n",
       "    </tr>\n",
       "    <tr>\n",
       "      <th>4</th>\n",
       "      <td>2016-01-30</td>\n",
       "      <td>Maribor</td>\n",
       "      <td>Giant Slalom</td>\n",
       "      <td>4</td>\n",
       "      <td>2.68</td>\n",
       "    </tr>\n",
       "    <tr>\n",
       "      <th>5</th>\n",
       "      <td>2016-01-17</td>\n",
       "      <td>Flachau</td>\n",
       "      <td>Giant Slalom</td>\n",
       "      <td>4</td>\n",
       "      <td>10.75</td>\n",
       "    </tr>\n",
       "    <tr>\n",
       "      <th>6</th>\n",
       "      <td>2016-01-15</td>\n",
       "      <td>Flachau</td>\n",
       "      <td>Slalom</td>\n",
       "      <td>26</td>\n",
       "      <td>22.85</td>\n",
       "    </tr>\n",
       "    <tr>\n",
       "      <th>7</th>\n",
       "      <td>2016-12-01</td>\n",
       "      <td>Flachau</td>\n",
       "      <td>Slalom</td>\n",
       "      <td>26</td>\n",
       "      <td>34.79</td>\n",
       "    </tr>\n",
       "    <tr>\n",
       "      <th>8</th>\n",
       "      <td>2016-05-01</td>\n",
       "      <td>Santa Caterina Valfurva</td>\n",
       "      <td>Slalom</td>\n",
       "      <td>26</td>\n",
       "      <td>36.17</td>\n",
       "    </tr>\n",
       "    <tr>\n",
       "      <th>9</th>\n",
       "      <td>2015-12-29</td>\n",
       "      <td>Lienz</td>\n",
       "      <td>Slalom</td>\n",
       "      <td>21</td>\n",
       "      <td>19.38</td>\n",
       "    </tr>\n",
       "    <tr>\n",
       "      <th>10</th>\n",
       "      <td>2015-12-28</td>\n",
       "      <td>Lienz</td>\n",
       "      <td>Giant Slalom</td>\n",
       "      <td>4</td>\n",
       "      <td>2.80</td>\n",
       "    </tr>\n",
       "    <tr>\n",
       "      <th>11</th>\n",
       "      <td>2015-12-20</td>\n",
       "      <td>Courchevel</td>\n",
       "      <td>Giant Slalom</td>\n",
       "      <td>1</td>\n",
       "      <td>0.00</td>\n",
       "    </tr>\n",
       "    <tr>\n",
       "      <th>12</th>\n",
       "      <td>2015-12-13</td>\n",
       "      <td>Are</td>\n",
       "      <td>Slalom</td>\n",
       "      <td>17</td>\n",
       "      <td>24.38</td>\n",
       "    </tr>\n",
       "    <tr>\n",
       "      <th>13</th>\n",
       "      <td>2015-12-12</td>\n",
       "      <td>Are</td>\n",
       "      <td>Giant Slalom</td>\n",
       "      <td>2</td>\n",
       "      <td>0.55</td>\n",
       "    </tr>\n",
       "    <tr>\n",
       "      <th>14</th>\n",
       "      <td>2015-11-29</td>\n",
       "      <td>Aspen, CO</td>\n",
       "      <td>Slalom</td>\n",
       "      <td>DNQ1</td>\n",
       "      <td>NaN</td>\n",
       "    </tr>\n",
       "  </tbody>\n",
       "</table>\n",
       "</div>"
      ],
      "text/plain": [
       "        datum                     kraj    disciplina mesto  zaostanek\n",
       "0  2016-03-20               St. Moritz  Giant Slalom     4       7.78\n",
       "1  2016-07-03                    Jasna  Giant Slalom     1       0.00\n",
       "2  2016-06-03                    Jasna        Slalom    26      46.21\n",
       "3  2016-02-15            Crans Montana        Slalom  DNQ1        NaN\n",
       "4  2016-01-30                  Maribor  Giant Slalom     4       2.68\n",
       "5  2016-01-17                  Flachau  Giant Slalom     4      10.75\n",
       "6  2016-01-15                  Flachau        Slalom    26      22.85\n",
       "7  2016-12-01                  Flachau        Slalom    26      34.79\n",
       "8  2016-05-01  Santa Caterina Valfurva        Slalom    26      36.17\n",
       "9  2015-12-29                    Lienz        Slalom    21      19.38\n",
       "10 2015-12-28                    Lienz  Giant Slalom     4       2.80\n",
       "11 2015-12-20               Courchevel  Giant Slalom     1       0.00\n",
       "12 2015-12-13                      Are        Slalom    17      24.38\n",
       "13 2015-12-12                      Are  Giant Slalom     2       0.55\n",
       "14 2015-11-29                Aspen, CO        Slalom  DNQ1        NaN"
      ]
     },
     "execution_count": 5,
     "metadata": {},
     "output_type": "execute_result"
    }
   ],
   "source": [
    "brem[:15]"
   ]
  },
  {
   "cell_type": "markdown",
   "metadata": {},
   "source": [
    "V kasnejši analizi se pojavi težava, da so podatki o uvrstitvi lahko številke ali besedilo (npr. DNQ1, DNF1, DSQ2 in DNS1), ki označuje odstope, diskvalifikacije in podobne anomalije.\n",
    "Zato tabeli dodamo nov stolpec __mesto1__, kjer besedilne podatke identificiramo z 0. Tu nas ne zanima, zakaj tekmovalka ni osvojila točk."
   ]
  },
  {
   "cell_type": "code",
   "execution_count": 6,
   "metadata": {
    "collapsed": false
   },
   "outputs": [],
   "source": [
    "def pretvori(bes):\n",
    "    if bes in ['DNQ1', 'DNF1', 'DSQ2', 'DNS1','DNF2']:\n",
    "        return 0\n",
    "    else:\n",
    "        return int(bes)"
   ]
  },
  {
   "cell_type": "code",
   "execution_count": 7,
   "metadata": {
    "collapsed": false
   },
   "outputs": [
    {
     "data": {
      "text/html": [
       "<div>\n",
       "<table border=\"1\" class=\"dataframe\">\n",
       "  <thead>\n",
       "    <tr style=\"text-align: right;\">\n",
       "      <th></th>\n",
       "      <th>datum</th>\n",
       "      <th>kraj</th>\n",
       "      <th>disciplina</th>\n",
       "      <th>mesto</th>\n",
       "      <th>zaostanek</th>\n",
       "      <th>mesto1</th>\n",
       "    </tr>\n",
       "  </thead>\n",
       "  <tbody>\n",
       "    <tr>\n",
       "      <th>0</th>\n",
       "      <td>2016-03-20</td>\n",
       "      <td>St. Moritz</td>\n",
       "      <td>Giant Slalom</td>\n",
       "      <td>4</td>\n",
       "      <td>7.78</td>\n",
       "      <td>4</td>\n",
       "    </tr>\n",
       "    <tr>\n",
       "      <th>1</th>\n",
       "      <td>2016-07-03</td>\n",
       "      <td>Jasna</td>\n",
       "      <td>Giant Slalom</td>\n",
       "      <td>1</td>\n",
       "      <td>0.00</td>\n",
       "      <td>1</td>\n",
       "    </tr>\n",
       "    <tr>\n",
       "      <th>2</th>\n",
       "      <td>2016-06-03</td>\n",
       "      <td>Jasna</td>\n",
       "      <td>Slalom</td>\n",
       "      <td>26</td>\n",
       "      <td>46.21</td>\n",
       "      <td>26</td>\n",
       "    </tr>\n",
       "    <tr>\n",
       "      <th>3</th>\n",
       "      <td>2016-02-15</td>\n",
       "      <td>Crans Montana</td>\n",
       "      <td>Slalom</td>\n",
       "      <td>DNQ1</td>\n",
       "      <td>NaN</td>\n",
       "      <td>0</td>\n",
       "    </tr>\n",
       "    <tr>\n",
       "      <th>4</th>\n",
       "      <td>2016-01-30</td>\n",
       "      <td>Maribor</td>\n",
       "      <td>Giant Slalom</td>\n",
       "      <td>4</td>\n",
       "      <td>2.68</td>\n",
       "      <td>4</td>\n",
       "    </tr>\n",
       "    <tr>\n",
       "      <th>5</th>\n",
       "      <td>2016-01-17</td>\n",
       "      <td>Flachau</td>\n",
       "      <td>Giant Slalom</td>\n",
       "      <td>4</td>\n",
       "      <td>10.75</td>\n",
       "      <td>4</td>\n",
       "    </tr>\n",
       "    <tr>\n",
       "      <th>6</th>\n",
       "      <td>2016-01-15</td>\n",
       "      <td>Flachau</td>\n",
       "      <td>Slalom</td>\n",
       "      <td>26</td>\n",
       "      <td>22.85</td>\n",
       "      <td>26</td>\n",
       "    </tr>\n",
       "    <tr>\n",
       "      <th>7</th>\n",
       "      <td>2016-12-01</td>\n",
       "      <td>Flachau</td>\n",
       "      <td>Slalom</td>\n",
       "      <td>26</td>\n",
       "      <td>34.79</td>\n",
       "      <td>26</td>\n",
       "    </tr>\n",
       "    <tr>\n",
       "      <th>8</th>\n",
       "      <td>2016-05-01</td>\n",
       "      <td>Santa Caterina Valfurva</td>\n",
       "      <td>Slalom</td>\n",
       "      <td>26</td>\n",
       "      <td>36.17</td>\n",
       "      <td>26</td>\n",
       "    </tr>\n",
       "    <tr>\n",
       "      <th>9</th>\n",
       "      <td>2015-12-29</td>\n",
       "      <td>Lienz</td>\n",
       "      <td>Slalom</td>\n",
       "      <td>21</td>\n",
       "      <td>19.38</td>\n",
       "      <td>21</td>\n",
       "    </tr>\n",
       "    <tr>\n",
       "      <th>10</th>\n",
       "      <td>2015-12-28</td>\n",
       "      <td>Lienz</td>\n",
       "      <td>Giant Slalom</td>\n",
       "      <td>4</td>\n",
       "      <td>2.80</td>\n",
       "      <td>4</td>\n",
       "    </tr>\n",
       "    <tr>\n",
       "      <th>11</th>\n",
       "      <td>2015-12-20</td>\n",
       "      <td>Courchevel</td>\n",
       "      <td>Giant Slalom</td>\n",
       "      <td>1</td>\n",
       "      <td>0.00</td>\n",
       "      <td>1</td>\n",
       "    </tr>\n",
       "    <tr>\n",
       "      <th>12</th>\n",
       "      <td>2015-12-13</td>\n",
       "      <td>Are</td>\n",
       "      <td>Slalom</td>\n",
       "      <td>17</td>\n",
       "      <td>24.38</td>\n",
       "      <td>17</td>\n",
       "    </tr>\n",
       "    <tr>\n",
       "      <th>13</th>\n",
       "      <td>2015-12-12</td>\n",
       "      <td>Are</td>\n",
       "      <td>Giant Slalom</td>\n",
       "      <td>2</td>\n",
       "      <td>0.55</td>\n",
       "      <td>2</td>\n",
       "    </tr>\n",
       "    <tr>\n",
       "      <th>14</th>\n",
       "      <td>2015-11-29</td>\n",
       "      <td>Aspen, CO</td>\n",
       "      <td>Slalom</td>\n",
       "      <td>DNQ1</td>\n",
       "      <td>NaN</td>\n",
       "      <td>0</td>\n",
       "    </tr>\n",
       "  </tbody>\n",
       "</table>\n",
       "</div>"
      ],
      "text/plain": [
       "        datum                     kraj    disciplina mesto  zaostanek  mesto1\n",
       "0  2016-03-20               St. Moritz  Giant Slalom     4       7.78       4\n",
       "1  2016-07-03                    Jasna  Giant Slalom     1       0.00       1\n",
       "2  2016-06-03                    Jasna        Slalom    26      46.21      26\n",
       "3  2016-02-15            Crans Montana        Slalom  DNQ1        NaN       0\n",
       "4  2016-01-30                  Maribor  Giant Slalom     4       2.68       4\n",
       "5  2016-01-17                  Flachau  Giant Slalom     4      10.75       4\n",
       "6  2016-01-15                  Flachau        Slalom    26      22.85      26\n",
       "7  2016-12-01                  Flachau        Slalom    26      34.79      26\n",
       "8  2016-05-01  Santa Caterina Valfurva        Slalom    26      36.17      26\n",
       "9  2015-12-29                    Lienz        Slalom    21      19.38      21\n",
       "10 2015-12-28                    Lienz  Giant Slalom     4       2.80       4\n",
       "11 2015-12-20               Courchevel  Giant Slalom     1       0.00       1\n",
       "12 2015-12-13                      Are        Slalom    17      24.38      17\n",
       "13 2015-12-12                      Are  Giant Slalom     2       0.55       2\n",
       "14 2015-11-29                Aspen, CO        Slalom  DNQ1        NaN       0"
      ]
     },
     "execution_count": 7,
     "metadata": {},
     "output_type": "execute_result"
    }
   ],
   "source": [
    "brem['mesto1'] = brem['mesto'].map(pretvori)\n",
    "brem[:15]"
   ]
  },
  {
   "cell_type": "markdown",
   "metadata": {},
   "source": [
    "V 2. in 13. vrstici je vidna razlika med stolpcema 'mesto' in 'mesto1'."
   ]
  },
  {
   "cell_type": "markdown",
   "metadata": {},
   "source": [
    "Če bomo želeli delati analizo skupnega seštevka, moramo pretvoriti mesto tudi v točke. Definiramo seznam 'tocke', v katerega na i-to mesto (i teče od 0 do 30) zapišemo, koliko točk tekmovalka dobi za osvojeno i-to mesto."
   ]
  },
  {
   "cell_type": "code",
   "execution_count": 44,
   "metadata": {
    "collapsed": true
   },
   "outputs": [],
   "source": [
    "tocke=[0,100,80,60,50,45,40,36,32,29,26,24,22,20,18,16,15,14,13,12,11,10,9,8,7,6,5,4,3,2,1]\n",
    "\n",
    "def pretvori_2(bes):\n",
    "    if bes in [\"DNQ1\", \"DNF1\", \"DSQ2\", \"DNS1\", \"DNF2\"]:\n",
    "        return 0\n",
    "    else:\n",
    "        if int(bes) > 30:\n",
    "            return 0\n",
    "        else:\n",
    "            return tocke[int(bes)];        "
   ]
  },
  {
   "cell_type": "markdown",
   "metadata": {},
   "source": [
    "Opomba: mesto1 in tocke bi bilo bolj smiselno dodati v prvotni csv!!!!"
   ]
  },
  {
   "cell_type": "code",
   "execution_count": 42,
   "metadata": {
    "collapsed": false
   },
   "outputs": [
    {
     "data": {
      "text/html": [
       "<div>\n",
       "<table border=\"1\" class=\"dataframe\">\n",
       "  <thead>\n",
       "    <tr style=\"text-align: right;\">\n",
       "      <th></th>\n",
       "      <th>datum</th>\n",
       "      <th>kraj</th>\n",
       "      <th>disciplina</th>\n",
       "      <th>mesto</th>\n",
       "      <th>zaostanek</th>\n",
       "      <th>mesto1</th>\n",
       "      <th>tocke</th>\n",
       "    </tr>\n",
       "  </thead>\n",
       "  <tbody>\n",
       "    <tr>\n",
       "      <th>0</th>\n",
       "      <td>2016-03-20</td>\n",
       "      <td>St. Moritz</td>\n",
       "      <td>Giant Slalom</td>\n",
       "      <td>4</td>\n",
       "      <td>7.78</td>\n",
       "      <td>4</td>\n",
       "      <td>50</td>\n",
       "    </tr>\n",
       "    <tr>\n",
       "      <th>1</th>\n",
       "      <td>2016-07-03</td>\n",
       "      <td>Jasna</td>\n",
       "      <td>Giant Slalom</td>\n",
       "      <td>1</td>\n",
       "      <td>0.00</td>\n",
       "      <td>1</td>\n",
       "      <td>100</td>\n",
       "    </tr>\n",
       "    <tr>\n",
       "      <th>2</th>\n",
       "      <td>2016-06-03</td>\n",
       "      <td>Jasna</td>\n",
       "      <td>Slalom</td>\n",
       "      <td>26</td>\n",
       "      <td>46.21</td>\n",
       "      <td>26</td>\n",
       "      <td>5</td>\n",
       "    </tr>\n",
       "    <tr>\n",
       "      <th>3</th>\n",
       "      <td>2016-02-15</td>\n",
       "      <td>Crans Montana</td>\n",
       "      <td>Slalom</td>\n",
       "      <td>DNQ1</td>\n",
       "      <td>NaN</td>\n",
       "      <td>0</td>\n",
       "      <td>0</td>\n",
       "    </tr>\n",
       "    <tr>\n",
       "      <th>4</th>\n",
       "      <td>2016-01-30</td>\n",
       "      <td>Maribor</td>\n",
       "      <td>Giant Slalom</td>\n",
       "      <td>4</td>\n",
       "      <td>2.68</td>\n",
       "      <td>4</td>\n",
       "      <td>50</td>\n",
       "    </tr>\n",
       "    <tr>\n",
       "      <th>5</th>\n",
       "      <td>2016-01-17</td>\n",
       "      <td>Flachau</td>\n",
       "      <td>Giant Slalom</td>\n",
       "      <td>4</td>\n",
       "      <td>10.75</td>\n",
       "      <td>4</td>\n",
       "      <td>50</td>\n",
       "    </tr>\n",
       "    <tr>\n",
       "      <th>6</th>\n",
       "      <td>2016-01-15</td>\n",
       "      <td>Flachau</td>\n",
       "      <td>Slalom</td>\n",
       "      <td>26</td>\n",
       "      <td>22.85</td>\n",
       "      <td>26</td>\n",
       "      <td>5</td>\n",
       "    </tr>\n",
       "    <tr>\n",
       "      <th>7</th>\n",
       "      <td>2016-12-01</td>\n",
       "      <td>Flachau</td>\n",
       "      <td>Slalom</td>\n",
       "      <td>26</td>\n",
       "      <td>34.79</td>\n",
       "      <td>26</td>\n",
       "      <td>5</td>\n",
       "    </tr>\n",
       "    <tr>\n",
       "      <th>8</th>\n",
       "      <td>2016-05-01</td>\n",
       "      <td>Santa Caterina Valfurva</td>\n",
       "      <td>Slalom</td>\n",
       "      <td>26</td>\n",
       "      <td>36.17</td>\n",
       "      <td>26</td>\n",
       "      <td>5</td>\n",
       "    </tr>\n",
       "    <tr>\n",
       "      <th>9</th>\n",
       "      <td>2015-12-29</td>\n",
       "      <td>Lienz</td>\n",
       "      <td>Slalom</td>\n",
       "      <td>21</td>\n",
       "      <td>19.38</td>\n",
       "      <td>21</td>\n",
       "      <td>10</td>\n",
       "    </tr>\n",
       "    <tr>\n",
       "      <th>10</th>\n",
       "      <td>2015-12-28</td>\n",
       "      <td>Lienz</td>\n",
       "      <td>Giant Slalom</td>\n",
       "      <td>4</td>\n",
       "      <td>2.80</td>\n",
       "      <td>4</td>\n",
       "      <td>50</td>\n",
       "    </tr>\n",
       "    <tr>\n",
       "      <th>11</th>\n",
       "      <td>2015-12-20</td>\n",
       "      <td>Courchevel</td>\n",
       "      <td>Giant Slalom</td>\n",
       "      <td>1</td>\n",
       "      <td>0.00</td>\n",
       "      <td>1</td>\n",
       "      <td>100</td>\n",
       "    </tr>\n",
       "    <tr>\n",
       "      <th>12</th>\n",
       "      <td>2015-12-13</td>\n",
       "      <td>Are</td>\n",
       "      <td>Slalom</td>\n",
       "      <td>17</td>\n",
       "      <td>24.38</td>\n",
       "      <td>17</td>\n",
       "      <td>14</td>\n",
       "    </tr>\n",
       "    <tr>\n",
       "      <th>13</th>\n",
       "      <td>2015-12-12</td>\n",
       "      <td>Are</td>\n",
       "      <td>Giant Slalom</td>\n",
       "      <td>2</td>\n",
       "      <td>0.55</td>\n",
       "      <td>2</td>\n",
       "      <td>80</td>\n",
       "    </tr>\n",
       "    <tr>\n",
       "      <th>14</th>\n",
       "      <td>2015-11-29</td>\n",
       "      <td>Aspen, CO</td>\n",
       "      <td>Slalom</td>\n",
       "      <td>DNQ1</td>\n",
       "      <td>NaN</td>\n",
       "      <td>0</td>\n",
       "      <td>0</td>\n",
       "    </tr>\n",
       "  </tbody>\n",
       "</table>\n",
       "</div>"
      ],
      "text/plain": [
       "        datum                     kraj    disciplina mesto  zaostanek  mesto1  tocke\n",
       "0  2016-03-20               St. Moritz  Giant Slalom     4       7.78       4     50\n",
       "1  2016-07-03                    Jasna  Giant Slalom     1       0.00       1    100\n",
       "2  2016-06-03                    Jasna        Slalom    26      46.21      26      5\n",
       "3  2016-02-15            Crans Montana        Slalom  DNQ1        NaN       0      0\n",
       "4  2016-01-30                  Maribor  Giant Slalom     4       2.68       4     50\n",
       "5  2016-01-17                  Flachau  Giant Slalom     4      10.75       4     50\n",
       "6  2016-01-15                  Flachau        Slalom    26      22.85      26      5\n",
       "7  2016-12-01                  Flachau        Slalom    26      34.79      26      5\n",
       "8  2016-05-01  Santa Caterina Valfurva        Slalom    26      36.17      26      5\n",
       "9  2015-12-29                    Lienz        Slalom    21      19.38      21     10\n",
       "10 2015-12-28                    Lienz  Giant Slalom     4       2.80       4     50\n",
       "11 2015-12-20               Courchevel  Giant Slalom     1       0.00       1    100\n",
       "12 2015-12-13                      Are        Slalom    17      24.38      17     14\n",
       "13 2015-12-12                      Are  Giant Slalom     2       0.55       2     80\n",
       "14 2015-11-29                Aspen, CO        Slalom  DNQ1        NaN       0      0"
      ]
     },
     "execution_count": 42,
     "metadata": {},
     "output_type": "execute_result"
    }
   ],
   "source": [
    "brem['tocke'] = brem['mesto'].map(pretvori_2)\n",
    "brem[:15]"
   ]
  },
  {
   "cell_type": "markdown",
   "metadata": {},
   "source": [
    "Pa si poglejmo, v katerih disciplinah najpogosteje tekmuje Eva-Maria Brem:"
   ]
  },
  {
   "cell_type": "code",
   "execution_count": 8,
   "metadata": {
    "collapsed": false
   },
   "outputs": [
    {
     "data": {
      "text/plain": [
       "Giant Slalom      67\n",
       "Slalom            49\n",
       "Super Combined     8\n",
       "Super G            2\n",
       "Downhill           1\n",
       "Name: disciplina, dtype: int64"
      ]
     },
     "execution_count": 8,
     "metadata": {},
     "output_type": "execute_result"
    }
   ],
   "source": [
    "brem['disciplina'].value_counts()"
   ]
  },
  {
   "cell_type": "markdown",
   "metadata": {},
   "source": [
    "Eva-Maria Brem je torej najpogosteje tekmuje v slalomu in veleslalomu. Ponazorimo to še z grafom:"
   ]
  },
  {
   "cell_type": "code",
   "execution_count": 9,
   "metadata": {
    "collapsed": false
   },
   "outputs": [
    {
     "data": {
      "text/plain": [
       "<matplotlib.axes._subplots.AxesSubplot at 0x632bdd0>"
      ]
     },
     "execution_count": 9,
     "metadata": {},
     "output_type": "execute_result"
    },
    {
     "data": {
      "image/png": "[encoded data removed]",
      "text/plain": [
       "<matplotlib.figure.Figure at 0x62f6050>"
      ]
     },
     "metadata": {},
     "output_type": "display_data"
    }
   ],
   "source": [
    "brem['disciplina'].value_counts().plot(kind='pie', figsize=(6,6))"
   ]
  },
  {
   "cell_type": "markdown",
   "metadata": {
    "collapsed": true
   },
   "source": [
    "Čeprav najpogosteje tekmuje v slalomu in veleslalomu, pa to nista nujno disciplini, v katerih dosega najboljše rezultate. Najprej si poglejmo, kakšni so njeni rezultati v slalomu in nato še veleslalomu:"
   ]
  },
  {
   "cell_type": "code",
   "execution_count": 10,
   "metadata": {
    "collapsed": false
   },
   "outputs": [
    {
     "data": {
      "text/html": [
       "<div>\n",
       "<table border=\"1\" class=\"dataframe\">\n",
       "  <thead>\n",
       "    <tr style=\"text-align: right;\">\n",
       "      <th></th>\n",
       "      <th>datum</th>\n",
       "      <th>kraj</th>\n",
       "      <th>disciplina</th>\n",
       "      <th>mesto</th>\n",
       "      <th>zaostanek</th>\n",
       "      <th>mesto1</th>\n",
       "    </tr>\n",
       "  </thead>\n",
       "  <tbody>\n",
       "    <tr>\n",
       "      <th>2</th>\n",
       "      <td>2016-06-03</td>\n",
       "      <td>Jasna</td>\n",
       "      <td>Slalom</td>\n",
       "      <td>26</td>\n",
       "      <td>46.21</td>\n",
       "      <td>26</td>\n",
       "    </tr>\n",
       "    <tr>\n",
       "      <th>3</th>\n",
       "      <td>2016-02-15</td>\n",
       "      <td>Crans Montana</td>\n",
       "      <td>Slalom</td>\n",
       "      <td>DNQ1</td>\n",
       "      <td>NaN</td>\n",
       "      <td>0</td>\n",
       "    </tr>\n",
       "    <tr>\n",
       "      <th>6</th>\n",
       "      <td>2016-01-15</td>\n",
       "      <td>Flachau</td>\n",
       "      <td>Slalom</td>\n",
       "      <td>26</td>\n",
       "      <td>22.85</td>\n",
       "      <td>26</td>\n",
       "    </tr>\n",
       "    <tr>\n",
       "      <th>7</th>\n",
       "      <td>2016-12-01</td>\n",
       "      <td>Flachau</td>\n",
       "      <td>Slalom</td>\n",
       "      <td>26</td>\n",
       "      <td>34.79</td>\n",
       "      <td>26</td>\n",
       "    </tr>\n",
       "    <tr>\n",
       "      <th>8</th>\n",
       "      <td>2016-05-01</td>\n",
       "      <td>Santa Caterina Valfurva</td>\n",
       "      <td>Slalom</td>\n",
       "      <td>26</td>\n",
       "      <td>36.17</td>\n",
       "      <td>26</td>\n",
       "    </tr>\n",
       "    <tr>\n",
       "      <th>9</th>\n",
       "      <td>2015-12-29</td>\n",
       "      <td>Lienz</td>\n",
       "      <td>Slalom</td>\n",
       "      <td>21</td>\n",
       "      <td>19.38</td>\n",
       "      <td>21</td>\n",
       "    </tr>\n",
       "    <tr>\n",
       "      <th>12</th>\n",
       "      <td>2015-12-13</td>\n",
       "      <td>Are</td>\n",
       "      <td>Slalom</td>\n",
       "      <td>17</td>\n",
       "      <td>24.38</td>\n",
       "      <td>17</td>\n",
       "    </tr>\n",
       "    <tr>\n",
       "      <th>14</th>\n",
       "      <td>2015-11-29</td>\n",
       "      <td>Aspen, CO</td>\n",
       "      <td>Slalom</td>\n",
       "      <td>DNQ1</td>\n",
       "      <td>NaN</td>\n",
       "      <td>0</td>\n",
       "    </tr>\n",
       "    <tr>\n",
       "      <th>15</th>\n",
       "      <td>2015-11-28</td>\n",
       "      <td>Aspen, CO</td>\n",
       "      <td>Slalom</td>\n",
       "      <td>20</td>\n",
       "      <td>45.09</td>\n",
       "      <td>20</td>\n",
       "    </tr>\n",
       "    <tr>\n",
       "      <th>19</th>\n",
       "      <td>2015-03-14</td>\n",
       "      <td>Are</td>\n",
       "      <td>Slalom</td>\n",
       "      <td>27</td>\n",
       "      <td>34.29</td>\n",
       "      <td>27</td>\n",
       "    </tr>\n",
       "    <tr>\n",
       "      <th>21</th>\n",
       "      <td>2015-02-22</td>\n",
       "      <td>Maribor</td>\n",
       "      <td>Slalom</td>\n",
       "      <td>25</td>\n",
       "      <td>21.43</td>\n",
       "      <td>25</td>\n",
       "    </tr>\n",
       "    <tr>\n",
       "      <th>23</th>\n",
       "      <td>2015-01-13</td>\n",
       "      <td>Flachau</td>\n",
       "      <td>Slalom</td>\n",
       "      <td>DNQ1</td>\n",
       "      <td>NaN</td>\n",
       "      <td>0</td>\n",
       "    </tr>\n",
       "    <tr>\n",
       "      <th>24</th>\n",
       "      <td>2015-04-01</td>\n",
       "      <td>Zagreb</td>\n",
       "      <td>Slalom</td>\n",
       "      <td>DNF1</td>\n",
       "      <td>NaN</td>\n",
       "      <td>0</td>\n",
       "    </tr>\n",
       "    <tr>\n",
       "      <th>25</th>\n",
       "      <td>2014-12-29</td>\n",
       "      <td>Kuehtai in Tirol</td>\n",
       "      <td>Slalom</td>\n",
       "      <td>DNQ1</td>\n",
       "      <td>NaN</td>\n",
       "      <td>0</td>\n",
       "    </tr>\n",
       "    <tr>\n",
       "      <th>27</th>\n",
       "      <td>2014-12-13</td>\n",
       "      <td>Are</td>\n",
       "      <td>Slalom</td>\n",
       "      <td>DNQ1</td>\n",
       "      <td>NaN</td>\n",
       "      <td>0</td>\n",
       "    </tr>\n",
       "  </tbody>\n",
       "</table>\n",
       "</div>"
      ],
      "text/plain": [
       "        datum                     kraj disciplina mesto  zaostanek  mesto1\n",
       "2  2016-06-03                    Jasna     Slalom    26      46.21      26\n",
       "3  2016-02-15            Crans Montana     Slalom  DNQ1        NaN       0\n",
       "6  2016-01-15                  Flachau     Slalom    26      22.85      26\n",
       "7  2016-12-01                  Flachau     Slalom    26      34.79      26\n",
       "8  2016-05-01  Santa Caterina Valfurva     Slalom    26      36.17      26\n",
       "9  2015-12-29                    Lienz     Slalom    21      19.38      21\n",
       "12 2015-12-13                      Are     Slalom    17      24.38      17\n",
       "14 2015-11-29                Aspen, CO     Slalom  DNQ1        NaN       0\n",
       "15 2015-11-28                Aspen, CO     Slalom    20      45.09      20\n",
       "19 2015-03-14                      Are     Slalom    27      34.29      27\n",
       "21 2015-02-22                  Maribor     Slalom    25      21.43      25\n",
       "23 2015-01-13                  Flachau     Slalom  DNQ1        NaN       0\n",
       "24 2015-04-01                   Zagreb     Slalom  DNF1        NaN       0\n",
       "25 2014-12-29         Kuehtai in Tirol     Slalom  DNQ1        NaN       0\n",
       "27 2014-12-13                      Are     Slalom  DNQ1        NaN       0"
      ]
     },
     "execution_count": 10,
     "metadata": {},
     "output_type": "execute_result"
    }
   ],
   "source": [
    "slalom = brem['disciplina'] == 'Slalom'\n",
    "brem[slalom][:15]"
   ]
  },
  {
   "cell_type": "code",
   "execution_count": 11,
   "metadata": {
    "collapsed": false
   },
   "outputs": [
    {
     "data": {
      "text/html": [
       "<div>\n",
       "<table border=\"1\" class=\"dataframe\">\n",
       "  <thead>\n",
       "    <tr style=\"text-align: right;\">\n",
       "      <th></th>\n",
       "      <th>datum</th>\n",
       "      <th>kraj</th>\n",
       "      <th>disciplina</th>\n",
       "      <th>mesto</th>\n",
       "      <th>zaostanek</th>\n",
       "      <th>mesto1</th>\n",
       "    </tr>\n",
       "  </thead>\n",
       "  <tbody>\n",
       "    <tr>\n",
       "      <th>0</th>\n",
       "      <td>2016-03-20</td>\n",
       "      <td>St. Moritz</td>\n",
       "      <td>Giant Slalom</td>\n",
       "      <td>4</td>\n",
       "      <td>7.78</td>\n",
       "      <td>4</td>\n",
       "    </tr>\n",
       "    <tr>\n",
       "      <th>1</th>\n",
       "      <td>2016-07-03</td>\n",
       "      <td>Jasna</td>\n",
       "      <td>Giant Slalom</td>\n",
       "      <td>1</td>\n",
       "      <td>0.00</td>\n",
       "      <td>1</td>\n",
       "    </tr>\n",
       "    <tr>\n",
       "      <th>4</th>\n",
       "      <td>2016-01-30</td>\n",
       "      <td>Maribor</td>\n",
       "      <td>Giant Slalom</td>\n",
       "      <td>4</td>\n",
       "      <td>2.68</td>\n",
       "      <td>4</td>\n",
       "    </tr>\n",
       "    <tr>\n",
       "      <th>5</th>\n",
       "      <td>2016-01-17</td>\n",
       "      <td>Flachau</td>\n",
       "      <td>Giant Slalom</td>\n",
       "      <td>4</td>\n",
       "      <td>10.75</td>\n",
       "      <td>4</td>\n",
       "    </tr>\n",
       "    <tr>\n",
       "      <th>10</th>\n",
       "      <td>2015-12-28</td>\n",
       "      <td>Lienz</td>\n",
       "      <td>Giant Slalom</td>\n",
       "      <td>4</td>\n",
       "      <td>2.80</td>\n",
       "      <td>4</td>\n",
       "    </tr>\n",
       "    <tr>\n",
       "      <th>11</th>\n",
       "      <td>2015-12-20</td>\n",
       "      <td>Courchevel</td>\n",
       "      <td>Giant Slalom</td>\n",
       "      <td>1</td>\n",
       "      <td>0.00</td>\n",
       "      <td>1</td>\n",
       "    </tr>\n",
       "    <tr>\n",
       "      <th>13</th>\n",
       "      <td>2015-12-12</td>\n",
       "      <td>Are</td>\n",
       "      <td>Giant Slalom</td>\n",
       "      <td>2</td>\n",
       "      <td>0.55</td>\n",
       "      <td>2</td>\n",
       "    </tr>\n",
       "    <tr>\n",
       "      <th>16</th>\n",
       "      <td>2015-11-27</td>\n",
       "      <td>Aspen, CO</td>\n",
       "      <td>Giant Slalom</td>\n",
       "      <td>2</td>\n",
       "      <td>0.80</td>\n",
       "      <td>2</td>\n",
       "    </tr>\n",
       "    <tr>\n",
       "      <th>17</th>\n",
       "      <td>2015-10-24</td>\n",
       "      <td>Soelden</td>\n",
       "      <td>Giant Slalom</td>\n",
       "      <td>8</td>\n",
       "      <td>19.56</td>\n",
       "      <td>8</td>\n",
       "    </tr>\n",
       "    <tr>\n",
       "      <th>18</th>\n",
       "      <td>2015-03-22</td>\n",
       "      <td>Meribel</td>\n",
       "      <td>Giant Slalom</td>\n",
       "      <td>2</td>\n",
       "      <td>2.53</td>\n",
       "      <td>2</td>\n",
       "    </tr>\n",
       "    <tr>\n",
       "      <th>20</th>\n",
       "      <td>2015-03-13</td>\n",
       "      <td>Are</td>\n",
       "      <td>Giant Slalom</td>\n",
       "      <td>3</td>\n",
       "      <td>7.27</td>\n",
       "      <td>3</td>\n",
       "    </tr>\n",
       "    <tr>\n",
       "      <th>22</th>\n",
       "      <td>2015-02-21</td>\n",
       "      <td>Maribor</td>\n",
       "      <td>Giant Slalom</td>\n",
       "      <td>10</td>\n",
       "      <td>13.43</td>\n",
       "      <td>10</td>\n",
       "    </tr>\n",
       "    <tr>\n",
       "      <th>26</th>\n",
       "      <td>2014-12-28</td>\n",
       "      <td>Kuehtai in Tirol</td>\n",
       "      <td>Giant Slalom</td>\n",
       "      <td>4</td>\n",
       "      <td>2.63</td>\n",
       "      <td>4</td>\n",
       "    </tr>\n",
       "    <tr>\n",
       "      <th>28</th>\n",
       "      <td>2014-12-12</td>\n",
       "      <td>Are</td>\n",
       "      <td>Giant Slalom</td>\n",
       "      <td>3</td>\n",
       "      <td>1.91</td>\n",
       "      <td>3</td>\n",
       "    </tr>\n",
       "    <tr>\n",
       "      <th>30</th>\n",
       "      <td>2014-11-29</td>\n",
       "      <td>Aspen</td>\n",
       "      <td>Giant Slalom</td>\n",
       "      <td>1</td>\n",
       "      <td>0.00</td>\n",
       "      <td>1</td>\n",
       "    </tr>\n",
       "  </tbody>\n",
       "</table>\n",
       "</div>"
      ],
      "text/plain": [
       "        datum              kraj    disciplina mesto  zaostanek  mesto1\n",
       "0  2016-03-20        St. Moritz  Giant Slalom     4       7.78       4\n",
       "1  2016-07-03             Jasna  Giant Slalom     1       0.00       1\n",
       "4  2016-01-30           Maribor  Giant Slalom     4       2.68       4\n",
       "5  2016-01-17           Flachau  Giant Slalom     4      10.75       4\n",
       "10 2015-12-28             Lienz  Giant Slalom     4       2.80       4\n",
       "11 2015-12-20        Courchevel  Giant Slalom     1       0.00       1\n",
       "13 2015-12-12               Are  Giant Slalom     2       0.55       2\n",
       "16 2015-11-27         Aspen, CO  Giant Slalom     2       0.80       2\n",
       "17 2015-10-24           Soelden  Giant Slalom     8      19.56       8\n",
       "18 2015-03-22           Meribel  Giant Slalom     2       2.53       2\n",
       "20 2015-03-13               Are  Giant Slalom     3       7.27       3\n",
       "22 2015-02-21           Maribor  Giant Slalom    10      13.43      10\n",
       "26 2014-12-28  Kuehtai in Tirol  Giant Slalom     4       2.63       4\n",
       "28 2014-12-12               Are  Giant Slalom     3       1.91       3\n",
       "30 2014-11-29             Aspen  Giant Slalom     1       0.00       1"
      ]
     },
     "execution_count": 11,
     "metadata": {},
     "output_type": "execute_result"
    }
   ],
   "source": [
    "veleslalom = brem['disciplina'] == 'Giant Slalom'\n",
    "brem[veleslalom][:15]"
   ]
  },
  {
   "cell_type": "markdown",
   "metadata": {},
   "source": [
    "Iz tabel je razvidno, da so njeni razultati v slalomu v vačini na repu trideseterice, med tem ko se v veleslalomu uvršča med 5 najboljših. To se še lepše vidi z grafov:"
   ]
  },
  {
   "cell_type": "code",
   "execution_count": 12,
   "metadata": {
    "collapsed": false
   },
   "outputs": [
    {
     "data": {
      "text/plain": [
       "<matplotlib.axes._subplots.AxesSubplot at 0x6370df0>"
      ]
     },
     "execution_count": 12,
     "metadata": {},
     "output_type": "execute_result"
    },
    {
     "data": {
      "image/png": "[encoded data removed]",
      "text/plain": [
       "<matplotlib.figure.Figure at 0x637f170>"
      ]
     },
     "metadata": {},
     "output_type": "display_data"
    }
   ],
   "source": [
    "brem[slalom]['mesto1'].value_counts().plot(kind='bar')"
   ]
  },
  {
   "cell_type": "code",
   "execution_count": 13,
   "metadata": {
    "collapsed": false
   },
   "outputs": [],
   "source": [
    "urejen = brem[veleslalom].sort_values(['mesto1'], ascending=True)\n",
    "#urejen['mesto1'].value_counts()\n",
    "#urejen['mesto1'].value_counts().plot(kind='bar')\n",
    "#ne more uredit, ker DNQ1, DNF1, DSQ2 in DNS1 niso legit uvrstitve."
   ]
  },
  {
   "cell_type": "code",
   "execution_count": 14,
   "metadata": {
    "collapsed": false
   },
   "outputs": [
    {
     "data": {
      "text/plain": [
       "<matplotlib.axes._subplots.AxesSubplot at 0x6379af0>"
      ]
     },
     "execution_count": 14,
     "metadata": {},
     "output_type": "execute_result"
    },
    {
     "data": {
      "image/png": "[encoded data removed]",
      "text/plain": [
       "<matplotlib.figure.Figure at 0x63f6110>"
      ]
     },
     "metadata": {},
     "output_type": "display_data"
    }
   ],
   "source": [
    "brem[veleslalom]['mesto1'].value_counts().plot(kind='bar')"
   ]
  },
  {
   "cell_type": "markdown",
   "metadata": {},
   "source": [
    "## Analiza narodnosti"
   ]
  },
  {
   "cell_type": "markdown",
   "metadata": {},
   "source": [
    "Zanima nas, koliko je smučarjev določene narodnosti. Najprej jih preštejmo, nato pa ponazorimo to z grafom:"
   ]
  },
  {
   "cell_type": "code",
   "execution_count": 24,
   "metadata": {
    "collapsed": false
   },
   "outputs": [
    {
     "data": {
      "text/plain": [
       "AUT    61\n",
       "SUI    45\n",
       "ITA    42\n",
       "FRA    39\n",
       "USA    31\n",
       "GER    26\n",
       "SWE    20\n",
       "NOR    18\n",
       "CAN    18\n",
       "SLO    15\n",
       "CZE     8\n",
       "RUS     5\n",
       "SVK     4\n",
       "FIN     4\n",
       "CRO     3\n",
       "JPN     2\n",
       "GBR     2\n",
       "HUN     2\n",
       "ARG     2\n",
       "AUS     1\n",
       "AND     1\n",
       "SRB     1\n",
       "LAT     1\n",
       "LIE     1\n",
       "SPA     1\n",
       "POL     1\n",
       "MON     1\n",
       "Name: drzava, dtype: int64"
      ]
     },
     "execution_count": 24,
     "metadata": {},
     "output_type": "execute_result"
    }
   ],
   "source": [
    "smucarji['drzava'].value_counts()"
   ]
  },
  {
   "cell_type": "code",
   "execution_count": 45,
   "metadata": {
    "collapsed": false
   },
   "outputs": [
    {
     "data": {
      "text/plain": [
       "<matplotlib.axes._subplots.AxesSubplot at 0x3cf7a10>"
      ]
     },
     "execution_count": 45,
     "metadata": {},
     "output_type": "execute_result"
    },
    {
     "data": {
      "image/png": "[encoded data removed]",
      "text/plain": [
       "<matplotlib.figure.Figure at 0x8dd8270>"
      ]
     },
     "metadata": {},
     "output_type": "display_data"
    }
   ],
   "source": [
    "smucarji['drzava'].value_counts().plot(kind='pie', figsize = (6,6))"
   ]
  },
  {
   "cell_type": "markdown",
   "metadata": {},
   "source": [
    "Popravi graf, da najmanjše lepo prikaže!!!"
   ]
  },
  {
   "cell_type": "markdown",
   "metadata": {
    "collapsed": true
   },
   "source": [
    "## Analiza smuči"
   ]
  },
  {
   "cell_type": "markdown",
   "metadata": {},
   "source": [
    "Najprej si oglejmo, katere znamke smuči so najpogostejše v svetovnem pokalu:"
   ]
  },
  {
   "cell_type": "code",
   "execution_count": 15,
   "metadata": {
    "collapsed": false
   },
   "outputs": [
    {
     "data": {
      "text/plain": [
       "Head          76\n",
       "Rossignol     68\n",
       "Fischer       48\n",
       "Atomic        43\n",
       "Voelkl        32\n",
       "Salomon       25\n",
       "Stoeckli      20\n",
       "Nordica       14\n",
       "Ni_podatka     9\n",
       "Dynastar       9\n",
       "Blizzard       6\n",
       "Elan           4\n",
       "Hart           1\n",
       "Name: smuci, dtype: int64"
      ]
     },
     "execution_count": 15,
     "metadata": {},
     "output_type": "execute_result"
    }
   ],
   "source": [
    "smucarji['smuci'].value_counts()"
   ]
  },
  {
   "cell_type": "code",
   "execution_count": 16,
   "metadata": {
    "collapsed": false
   },
   "outputs": [
    {
     "data": {
      "text/plain": [
       "<matplotlib.axes._subplots.AxesSubplot at 0x646cad0>"
      ]
     },
     "execution_count": 16,
     "metadata": {},
     "output_type": "execute_result"
    },
    {
     "data": {
      "image/png": "[encoded data removed]",
      "text/plain": [
       "<matplotlib.figure.Figure at 0x6423b70>"
      ]
     },
     "metadata": {},
     "output_type": "display_data"
    }
   ],
   "source": [
    "smucarji['smuci'].value_counts().plot(kind='pie', figsize=(6,6))"
   ]
  },
  {
   "cell_type": "markdown",
   "metadata": {},
   "source": [
    "Poglejmo, predstavniki katerih držav uporabljajo smuči Head (in koliko jih je):"
   ]
  },
  {
   "cell_type": "markdown",
   "metadata": {},
   "source": [
    "To do: naredi graf, ki bo prikazal to za vse smuči."
   ]
  },
  {
   "cell_type": "code",
   "execution_count": 31,
   "metadata": {
    "collapsed": false
   },
   "outputs": [
    {
     "data": {
      "text/plain": [
       "<matplotlib.axes._subplots.AxesSubplot at 0x3dcc030>"
      ]
     },
     "execution_count": 31,
     "metadata": {},
     "output_type": "execute_result"
    },
    {
     "data": {
      "image/png": "[encoded data removed]",
      "text/plain": [
       "<matplotlib.figure.Figure at 0x3dd5890>"
      ]
     },
     "metadata": {},
     "output_type": "display_data"
    }
   ],
   "source": [
    "smucarji[smucarji['smuci'] == \"Head\"]['drzava'].value_counts().plot(kind='bar')"
   ]
  },
  {
   "cell_type": "markdown",
   "metadata": {},
   "source": [
    "Podobno si lahko pogledamo, katerim proizvajalcem smuči najbolj zaupajo smučarji iz avstrije:"
   ]
  },
  {
   "cell_type": "markdown",
   "metadata": {},
   "source": [
    "To do: naredi tak graf, ki bo prikazal to za vse države!"
   ]
  },
  {
   "cell_type": "code",
   "execution_count": 34,
   "metadata": {
    "collapsed": false
   },
   "outputs": [
    {
     "data": {
      "text/plain": [
       "<matplotlib.axes._subplots.AxesSubplot at 0x8d7bad0>"
      ]
     },
     "execution_count": 34,
     "metadata": {},
     "output_type": "execute_result"
    },
    {
     "data": {
      "image/png": "[encoded data removed]",
      "text/plain": [
       "<matplotlib.figure.Figure at 0x8d85b30>"
      ]
     },
     "metadata": {},
     "output_type": "display_data"
    }
   ],
   "source": [
    "smucarji[smucarji['drzava'] == \"AUT\"]['smuci'].value_counts().plot(kind='bar')"
   ]
  },
  {
   "cell_type": "code",
   "execution_count": null,
   "metadata": {
    "collapsed": true
   },
   "outputs": [],
   "source": []
  }
 ],
 "metadata": {
  "kernelspec": {
   "display_name": "Python 3",
   "language": "python",
   "name": "python3"
  },
  "language_info": {
   "codemirror_mode": {
    "name": "ipython",
    "version": 3
   },
   "file_extension": ".py",
   "mimetype": "text/x-python",
   "name": "python",
   "nbconvert_exporter": "python",
   "pygments_lexer": "ipython3",
   "version": "3.5.1"
  }
 },
 "nbformat": 4,
 "nbformat_minor": 0
}
