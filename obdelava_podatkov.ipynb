{
 "cells": [
  {
   "cell_type": "markdown",
   "metadata": {},
   "source": [
    "# Alpsko smučanje"
   ]
  },
  {
   "cell_type": "markdown",
   "metadata": {},
   "source": [
    "## Priprava podatkov"
   ]
  },
  {
   "cell_type": "code",
   "execution_count": 1,
   "metadata": {
    "collapsed": false
   },
   "outputs": [],
   "source": [
    "%matplotlib inline\n",
    "\n",
    "import pandas as pd\n",
    "import matplotlib.pyplot as plt\n",
    "import numpy as py\n",
    "#import scipy\n",
    "\n",
    "# Make the graphs a bit prettier, and bigger\n",
    "#pd.set_option('display.mpl_style', 'default')\n",
    "#plt.rcParams['figure.figsize'] = (15, 5)\n",
    "\n",
    "\n",
    "# This is necessary to show lots of columns in pandas 0.12. \n",
    "# Not necessary in pandas 0.13.\n",
    "pd.set_option('display.width', 5000) \n",
    "pd.set_option('display.max_columns', 60)"
   ]
  },
  {
   "cell_type": "markdown",
   "metadata": {},
   "source": [
    "Najprej sem spletne strani [FIS](http://www.fis-ski.com/alpine-skiing/athletes/) pobrala podatke o smučarjih in njihovih id številkah na spletišču FIS. Id-je sem potrebovala za sestavljanje url naslovov posameznih športnikov. Zbrane podatke sem nato spravila v datoteko smucarji.csv."
   ]
  },
  {
   "cell_type": "code",
   "execution_count": 2,
   "metadata": {
    "collapsed": false
   },
   "outputs": [],
   "source": [
    "pot=\"csv-datoteke/smucarji.csv\"\n",
    "smucarji = pd.read_csv(pot, index_col='id')"
   ]
  },
  {
   "cell_type": "markdown",
   "metadata": {},
   "source": [
    "Tabela izgleda tako:"
   ]
  },
  {
   "cell_type": "code",
   "execution_count": 3,
   "metadata": {
    "collapsed": false
   },
   "outputs": [
    {
     "data": {
      "text/html": [
       "<div>\n",
       "<table border=\"1\" class=\"dataframe\">\n",
       "  <thead>\n",
       "    <tr style=\"text-align: right;\">\n",
       "      <th></th>\n",
       "      <th>ime</th>\n",
       "      <th>drzava</th>\n",
       "      <th>smuci</th>\n",
       "    </tr>\n",
       "    <tr>\n",
       "      <th>id</th>\n",
       "      <th></th>\n",
       "      <th></th>\n",
       "      <th></th>\n",
       "    </tr>\n",
       "  </thead>\n",
       "  <tbody>\n",
       "    <tr>\n",
       "      <th>70206</th>\n",
       "      <td>ABDERHALDEN  Marianne</td>\n",
       "      <td>SUI</td>\n",
       "      <td>Head</td>\n",
       "    </tr>\n",
       "    <tr>\n",
       "      <th>148274</th>\n",
       "      <td>AERNI  Luca</td>\n",
       "      <td>SUI</td>\n",
       "      <td>Salomon</td>\n",
       "    </tr>\n",
       "    <tr>\n",
       "      <th>166907</th>\n",
       "      <td>AGER  Christina</td>\n",
       "      <td>AUT</td>\n",
       "      <td>Atomic</td>\n",
       "    </tr>\n",
       "    <tr>\n",
       "      <th>137008</th>\n",
       "      <td>AGNELLI  Nicole</td>\n",
       "      <td>ITA</td>\n",
       "      <td>Elan</td>\n",
       "    </tr>\n",
       "    <tr>\n",
       "      <th>139437</th>\n",
       "      <td>ALOPINA  Ksenia</td>\n",
       "      <td>RUS</td>\n",
       "      <td>Rossignol</td>\n",
       "    </tr>\n",
       "    <tr>\n",
       "      <th>163567</th>\n",
       "      <td>ALPHAND  Estelle</td>\n",
       "      <td>FRA</td>\n",
       "      <td>Dynastar</td>\n",
       "    </tr>\n",
       "    <tr>\n",
       "      <th>125750</th>\n",
       "      <td>ANKENY  Michael</td>\n",
       "      <td>USA</td>\n",
       "      <td>Nordica</td>\n",
       "    </tr>\n",
       "    <tr>\n",
       "      <th>80000</th>\n",
       "      <td>BAECK  Axel</td>\n",
       "      <td>SWE</td>\n",
       "      <td>Rossignol</td>\n",
       "    </tr>\n",
       "    <tr>\n",
       "      <th>120086</th>\n",
       "      <td>BAILET  Margot</td>\n",
       "      <td>FRA</td>\n",
       "      <td>Salomon</td>\n",
       "    </tr>\n",
       "    <tr>\n",
       "      <th>104084</th>\n",
       "      <td>BALLERIN  Andrea</td>\n",
       "      <td>ITA</td>\n",
       "      <td>Fischer</td>\n",
       "    </tr>\n",
       "  </tbody>\n",
       "</table>\n",
       "</div>"
      ],
      "text/plain": [
       "                          ime drzava      smuci\n",
       "id                                             \n",
       "70206   ABDERHALDEN  Marianne    SUI       Head\n",
       "148274            AERNI  Luca    SUI    Salomon\n",
       "166907        AGER  Christina    AUT     Atomic\n",
       "137008        AGNELLI  Nicole    ITA       Elan\n",
       "139437        ALOPINA  Ksenia    RUS  Rossignol\n",
       "163567       ALPHAND  Estelle    FRA   Dynastar\n",
       "125750        ANKENY  Michael    USA    Nordica\n",
       "80000             BAECK  Axel    SWE  Rossignol\n",
       "120086         BAILET  Margot    FRA    Salomon\n",
       "104084       BALLERIN  Andrea    ITA    Fischer"
      ]
     },
     "execution_count": 3,
     "metadata": {},
     "output_type": "execute_result"
    }
   ],
   "source": [
    "smucarji[:10]"
   ]
  },
  {
   "cell_type": "markdown",
   "metadata": {},
   "source": [
    "Nato sem za vsakega od tekmovalcev s strani z njegovimi rezultati (npr. [Eva-Maria Brem](http://data.fis-ski.com/dynamic/athlete-biography.html?sector=AL&listid=&competitorid=94808&type=result&rec_start=0&limit=100)) pobrala podatke o vsaki tekmi: datum, prizorišče, disciplino, uvrstitev, zaostanek."
   ]
  },
  {
   "cell_type": "code",
   "execution_count": 4,
   "metadata": {
    "collapsed": false
   },
   "outputs": [],
   "source": [
    "pot_brem = \"csv-datoteke/BREM  Eva-Maria.csv\"\n",
    "brem = pd.read_csv(pot_brem, parse_dates=['datum'])"
   ]
  },
  {
   "cell_type": "markdown",
   "metadata": {},
   "source": [
    "Tabela za Evo-Mario Brem:"
   ]
  },
  {
   "cell_type": "code",
   "execution_count": 5,
   "metadata": {
    "collapsed": false
   },
   "outputs": [
    {
     "data": {
      "text/html": [
       "<div>\n",
       "<table border=\"1\" class=\"dataframe\">\n",
       "  <thead>\n",
       "    <tr style=\"text-align: right;\">\n",
       "      <th></th>\n",
       "      <th>datum</th>\n",
       "      <th>kraj</th>\n",
       "      <th>disciplina</th>\n",
       "      <th>mesto</th>\n",
       "    </tr>\n",
       "  </thead>\n",
       "  <tbody>\n",
       "    <tr>\n",
       "      <th>0</th>\n",
       "      <td>2016-03-20</td>\n",
       "      <td>St. Moritz</td>\n",
       "      <td>Giant Slalom</td>\n",
       "      <td>4</td>\n",
       "    </tr>\n",
       "    <tr>\n",
       "      <th>1</th>\n",
       "      <td>2016-07-03</td>\n",
       "      <td>Jasna</td>\n",
       "      <td>Giant Slalom</td>\n",
       "      <td>1</td>\n",
       "    </tr>\n",
       "    <tr>\n",
       "      <th>2</th>\n",
       "      <td>2016-06-03</td>\n",
       "      <td>Jasna</td>\n",
       "      <td>Slalom</td>\n",
       "      <td>26</td>\n",
       "    </tr>\n",
       "    <tr>\n",
       "      <th>3</th>\n",
       "      <td>2016-02-15</td>\n",
       "      <td>Crans Montana</td>\n",
       "      <td>Slalom</td>\n",
       "      <td>DNQ1</td>\n",
       "    </tr>\n",
       "    <tr>\n",
       "      <th>4</th>\n",
       "      <td>2016-01-30</td>\n",
       "      <td>Maribor</td>\n",
       "      <td>Giant Slalom</td>\n",
       "      <td>4</td>\n",
       "    </tr>\n",
       "    <tr>\n",
       "      <th>5</th>\n",
       "      <td>2016-01-17</td>\n",
       "      <td>Flachau</td>\n",
       "      <td>Giant Slalom</td>\n",
       "      <td>4</td>\n",
       "    </tr>\n",
       "    <tr>\n",
       "      <th>6</th>\n",
       "      <td>2016-01-15</td>\n",
       "      <td>Flachau</td>\n",
       "      <td>Slalom</td>\n",
       "      <td>26</td>\n",
       "    </tr>\n",
       "    <tr>\n",
       "      <th>7</th>\n",
       "      <td>2016-12-01</td>\n",
       "      <td>Flachau</td>\n",
       "      <td>Slalom</td>\n",
       "      <td>26</td>\n",
       "    </tr>\n",
       "    <tr>\n",
       "      <th>8</th>\n",
       "      <td>2016-05-01</td>\n",
       "      <td>Santa Caterina Valfurva</td>\n",
       "      <td>Slalom</td>\n",
       "      <td>26</td>\n",
       "    </tr>\n",
       "    <tr>\n",
       "      <th>9</th>\n",
       "      <td>2015-12-29</td>\n",
       "      <td>Lienz</td>\n",
       "      <td>Slalom</td>\n",
       "      <td>21</td>\n",
       "    </tr>\n",
       "  </tbody>\n",
       "</table>\n",
       "</div>"
      ],
      "text/plain": [
       "       datum                     kraj    disciplina mesto\n",
       "0 2016-03-20               St. Moritz  Giant Slalom     4\n",
       "1 2016-07-03                    Jasna  Giant Slalom     1\n",
       "2 2016-06-03                    Jasna        Slalom    26\n",
       "3 2016-02-15            Crans Montana        Slalom  DNQ1\n",
       "4 2016-01-30                  Maribor  Giant Slalom     4\n",
       "5 2016-01-17                  Flachau  Giant Slalom     4\n",
       "6 2016-01-15                  Flachau        Slalom    26\n",
       "7 2016-12-01                  Flachau        Slalom    26\n",
       "8 2016-05-01  Santa Caterina Valfurva        Slalom    26\n",
       "9 2015-12-29                    Lienz        Slalom    21"
      ]
     },
     "execution_count": 5,
     "metadata": {},
     "output_type": "execute_result"
    }
   ],
   "source": [
    "brem[:10]"
   ]
  },
  {
   "cell_type": "markdown",
   "metadata": {},
   "source": [
    "Žal si z datumi ne bomo mogli pomagati, saj so na spletni strani z rezultati zapisani v različnih formatih. Kot primer si lahko ogledamo prvo in drugo vrstico zgornje tabele. Iz prve vrstice lahko sklepamo, da je zapis v obliki YYYY-MM-DD, kar pa bi pomenilo, da je bila tekma v drugi vrstici izvedena 3. julija 2016, kar pa iz očitnih razlogov ni res. Tega žal ne morem popraviti."
   ]
  },
  {
   "cell_type": "markdown",
   "metadata": {},
   "source": [
    "Da lahko primerjam tudi tekmovalce med seboj, sem naredila še csv datoteko 'vse.csv', v kateri zapišem vse podatke kot zgoraj in id tekmovalca:"
   ]
  },
  {
   "cell_type": "code",
   "execution_count": 6,
   "metadata": {
    "collapsed": false
   },
   "outputs": [],
   "source": [
    "pot1 =\"csv-datoteke/vse.csv\"\n",
    "vse = pd.read_csv(pot1, parse_dates=['datum'])"
   ]
  },
  {
   "cell_type": "markdown",
   "metadata": {},
   "source": [
    "Tabela izgleda tako:"
   ]
  },
  {
   "cell_type": "code",
   "execution_count": 7,
   "metadata": {
    "collapsed": false
   },
   "outputs": [
    {
     "data": {
      "text/html": [
       "<div>\n",
       "<table border=\"1\" class=\"dataframe\">\n",
       "  <thead>\n",
       "    <tr style=\"text-align: right;\">\n",
       "      <th></th>\n",
       "      <th>id</th>\n",
       "      <th>datum</th>\n",
       "      <th>kraj</th>\n",
       "      <th>disciplina</th>\n",
       "      <th>mesto</th>\n",
       "    </tr>\n",
       "  </thead>\n",
       "  <tbody>\n",
       "    <tr>\n",
       "      <th>197</th>\n",
       "      <td>163567</td>\n",
       "      <td>2014-07-03</td>\n",
       "      <td>Are</td>\n",
       "      <td>Giant Slalom</td>\n",
       "      <td>DNQ1</td>\n",
       "    </tr>\n",
       "    <tr>\n",
       "      <th>198</th>\n",
       "      <td>163567</td>\n",
       "      <td>2014-06-03</td>\n",
       "      <td>Are</td>\n",
       "      <td>Giant Slalom</td>\n",
       "      <td>DNQ1</td>\n",
       "    </tr>\n",
       "    <tr>\n",
       "      <th>199</th>\n",
       "      <td>163567</td>\n",
       "      <td>2013-09-03</td>\n",
       "      <td>Ofterschwang</td>\n",
       "      <td>Giant Slalom</td>\n",
       "      <td>DNF1</td>\n",
       "    </tr>\n",
       "    <tr>\n",
       "      <th>200</th>\n",
       "      <td>125750</td>\n",
       "      <td>2016-06-03</td>\n",
       "      <td>Kranjska Gora</td>\n",
       "      <td>Slalom</td>\n",
       "      <td>DNQ1</td>\n",
       "    </tr>\n",
       "    <tr>\n",
       "      <th>201</th>\n",
       "      <td>125750</td>\n",
       "      <td>2016-04-03</td>\n",
       "      <td>Kranjska Gora</td>\n",
       "      <td>Giant Slalom</td>\n",
       "      <td>DNS1</td>\n",
       "    </tr>\n",
       "    <tr>\n",
       "      <th>202</th>\n",
       "      <td>125750</td>\n",
       "      <td>2016-02-14</td>\n",
       "      <td>Yuzawa Naeba</td>\n",
       "      <td>Slalom</td>\n",
       "      <td>DNQ1</td>\n",
       "    </tr>\n",
       "  </tbody>\n",
       "</table>\n",
       "</div>"
      ],
      "text/plain": [
       "         id      datum           kraj    disciplina mesto\n",
       "197  163567 2014-07-03            Are  Giant Slalom  DNQ1\n",
       "198  163567 2014-06-03            Are  Giant Slalom  DNQ1\n",
       "199  163567 2013-09-03   Ofterschwang  Giant Slalom  DNF1\n",
       "200  125750 2016-06-03  Kranjska Gora        Slalom  DNQ1\n",
       "201  125750 2016-04-03  Kranjska Gora  Giant Slalom  DNS1\n",
       "202  125750 2016-02-14   Yuzawa Naeba        Slalom  DNQ1"
      ]
     },
     "execution_count": 7,
     "metadata": {},
     "output_type": "execute_result"
    }
   ],
   "source": [
    "vse[197:203]"
   ]
  },
  {
   "cell_type": "markdown",
   "metadata": {},
   "source": [
    "V kasnejši analizi se pojavi težava, da so podatki o uvrstitvi lahko številke ali besedilo (npr. DNQ1, DNF1, DSQ2 in DNS1), ki označuje odstope, diskvalifikacije in podobne anomalije.\n",
    "Zato tabelam dodamo nov stolpec __mesto1__, kjer besedilne podatke identificiramo z 0. Tu nas ne zanima, zakaj tekmovalec ni osvojil točk."
   ]
  },
  {
   "cell_type": "code",
   "execution_count": 8,
   "metadata": {
    "collapsed": false
   },
   "outputs": [],
   "source": [
    "def pretvori(bes):\n",
    "    if bes in ['DNQ1', 'DNF1', 'DSQ2', 'DNS1','DNF2','DSQ1','DNS2','DNQ2','DNF','DNC1','DSQ','DNS']:\n",
    "        return 0\n",
    "    else:\n",
    "        return int(bes)"
   ]
  },
  {
   "cell_type": "markdown",
   "metadata": {},
   "source": [
    "Če bomo želeli delati analizo skupnega seštevka, moramo pretvoriti mesto tudi v točke. Definiramo seznam 'tocke', v katerega na i-to mesto (i teče od 0 do 30) zapišemo, koliko točk tekmovalec dobi za osvojeno i-to mesto. Nato napišemo še funkcijo, ki nam pretvori mesto v osvojene točke."
   ]
  },
  {
   "cell_type": "code",
   "execution_count": 9,
   "metadata": {
    "collapsed": true
   },
   "outputs": [],
   "source": [
    "tocke=[0,100,80,60,50,45,40,36,32,29,26,24,22,20,18,16,15,14,13,12,11,10,9,8,7,6,5,4,3,2,1]\n",
    "\n",
    "def pretvori_2(bes):\n",
    "    if bes in [\"DNQ1\", \"DNF1\", \"DSQ2\", \"DNS1\", \"DNF2\"]:\n",
    "        return 0\n",
    "    else:\n",
    "        if int(bes) > 30:\n",
    "            return 0\n",
    "        else:\n",
    "            return tocke[int(bes)];        "
   ]
  },
  {
   "cell_type": "markdown",
   "metadata": {},
   "source": [
    "Tabelam zdaj dodamo stolpce:"
   ]
  },
  {
   "cell_type": "code",
   "execution_count": 10,
   "metadata": {
    "collapsed": false
   },
   "outputs": [
    {
     "data": {
      "text/html": [
       "<div>\n",
       "<table border=\"1\" class=\"dataframe\">\n",
       "  <thead>\n",
       "    <tr style=\"text-align: right;\">\n",
       "      <th></th>\n",
       "      <th>datum</th>\n",
       "      <th>kraj</th>\n",
       "      <th>disciplina</th>\n",
       "      <th>mesto</th>\n",
       "      <th>mesto1</th>\n",
       "      <th>tocke</th>\n",
       "    </tr>\n",
       "  </thead>\n",
       "  <tbody>\n",
       "    <tr>\n",
       "      <th>0</th>\n",
       "      <td>2016-03-20</td>\n",
       "      <td>St. Moritz</td>\n",
       "      <td>Giant Slalom</td>\n",
       "      <td>4</td>\n",
       "      <td>4</td>\n",
       "      <td>50</td>\n",
       "    </tr>\n",
       "    <tr>\n",
       "      <th>1</th>\n",
       "      <td>2016-07-03</td>\n",
       "      <td>Jasna</td>\n",
       "      <td>Giant Slalom</td>\n",
       "      <td>1</td>\n",
       "      <td>1</td>\n",
       "      <td>100</td>\n",
       "    </tr>\n",
       "    <tr>\n",
       "      <th>2</th>\n",
       "      <td>2016-06-03</td>\n",
       "      <td>Jasna</td>\n",
       "      <td>Slalom</td>\n",
       "      <td>26</td>\n",
       "      <td>26</td>\n",
       "      <td>5</td>\n",
       "    </tr>\n",
       "    <tr>\n",
       "      <th>3</th>\n",
       "      <td>2016-02-15</td>\n",
       "      <td>Crans Montana</td>\n",
       "      <td>Slalom</td>\n",
       "      <td>DNQ1</td>\n",
       "      <td>0</td>\n",
       "      <td>0</td>\n",
       "    </tr>\n",
       "    <tr>\n",
       "      <th>4</th>\n",
       "      <td>2016-01-30</td>\n",
       "      <td>Maribor</td>\n",
       "      <td>Giant Slalom</td>\n",
       "      <td>4</td>\n",
       "      <td>4</td>\n",
       "      <td>50</td>\n",
       "    </tr>\n",
       "  </tbody>\n",
       "</table>\n",
       "</div>"
      ],
      "text/plain": [
       "       datum           kraj    disciplina mesto  mesto1  tocke\n",
       "0 2016-03-20     St. Moritz  Giant Slalom     4       4     50\n",
       "1 2016-07-03          Jasna  Giant Slalom     1       1    100\n",
       "2 2016-06-03          Jasna        Slalom    26      26      5\n",
       "3 2016-02-15  Crans Montana        Slalom  DNQ1       0      0\n",
       "4 2016-01-30        Maribor  Giant Slalom     4       4     50"
      ]
     },
     "execution_count": 10,
     "metadata": {},
     "output_type": "execute_result"
    }
   ],
   "source": [
    "vse['mesto1'] = vse['mesto'].map(pretvori)\n",
    "brem['mesto1'] = brem['mesto'].map(pretvori)\n",
    "vse['tocke'] = vse['mesto1'].map(pretvori_2)\n",
    "brem['tocke'] = brem['mesto1'].map(pretvori_2)\n",
    "brem[:5]"
   ]
  },
  {
   "cell_type": "markdown",
   "metadata": {},
   "source": [
    "Zgornja tabela prikazuje predelano tabelo za Evo-Mario Brem. Enako smo naredili s tabelo z vsemi podatki:"
   ]
  },
  {
   "cell_type": "code",
   "execution_count": 11,
   "metadata": {
    "collapsed": false
   },
   "outputs": [
    {
     "data": {
      "text/html": [
       "<div>\n",
       "<table border=\"1\" class=\"dataframe\">\n",
       "  <thead>\n",
       "    <tr style=\"text-align: right;\">\n",
       "      <th></th>\n",
       "      <th>id</th>\n",
       "      <th>datum</th>\n",
       "      <th>kraj</th>\n",
       "      <th>disciplina</th>\n",
       "      <th>mesto</th>\n",
       "      <th>mesto1</th>\n",
       "      <th>tocke</th>\n",
       "    </tr>\n",
       "  </thead>\n",
       "  <tbody>\n",
       "    <tr>\n",
       "      <th>2024</th>\n",
       "      <td>94808</td>\n",
       "      <td>2007-01-14</td>\n",
       "      <td>Altenmarkt-Zauchensee</td>\n",
       "      <td>Super Combined</td>\n",
       "      <td>29</td>\n",
       "      <td>29</td>\n",
       "      <td>2</td>\n",
       "    </tr>\n",
       "    <tr>\n",
       "      <th>2025</th>\n",
       "      <td>94808</td>\n",
       "      <td>2005-12-29</td>\n",
       "      <td>Lienz</td>\n",
       "      <td>Slalom</td>\n",
       "      <td>DNQ1</td>\n",
       "      <td>0</td>\n",
       "      <td>0</td>\n",
       "    </tr>\n",
       "    <tr>\n",
       "      <th>2026</th>\n",
       "      <td>128892</td>\n",
       "      <td>2016-05-03</td>\n",
       "      <td>Kranjska Gora</td>\n",
       "      <td>Giant Slalom</td>\n",
       "      <td>26</td>\n",
       "      <td>26</td>\n",
       "      <td>5</td>\n",
       "    </tr>\n",
       "    <tr>\n",
       "      <th>2027</th>\n",
       "      <td>128892</td>\n",
       "      <td>2016-04-03</td>\n",
       "      <td>Kranjska Gora</td>\n",
       "      <td>Giant Slalom</td>\n",
       "      <td>DNQ1</td>\n",
       "      <td>0</td>\n",
       "      <td>0</td>\n",
       "    </tr>\n",
       "  </tbody>\n",
       "</table>\n",
       "</div>"
      ],
      "text/plain": [
       "          id      datum                   kraj      disciplina mesto  mesto1  tocke\n",
       "2024   94808 2007-01-14  Altenmarkt-Zauchensee  Super Combined    29      29      2\n",
       "2025   94808 2005-12-29                  Lienz          Slalom  DNQ1       0      0\n",
       "2026  128892 2016-05-03          Kranjska Gora    Giant Slalom    26      26      5\n",
       "2027  128892 2016-04-03          Kranjska Gora    Giant Slalom  DNQ1       0      0"
      ]
     },
     "execution_count": 11,
     "metadata": {},
     "output_type": "execute_result"
    }
   ],
   "source": [
    "vse[2024:2028]"
   ]
  },
  {
   "cell_type": "markdown",
   "metadata": {},
   "source": [
    "## Analiza"
   ]
  },
  {
   "cell_type": "markdown",
   "metadata": {},
   "source": [
    "### Analiza dosežkov Eve-Marie Brem"
   ]
  },
  {
   "cell_type": "markdown",
   "metadata": {},
   "source": [
    "Pa si poglejmo, v katerih disciplinah najpogosteje tekmuje Eva-Maria Brem:"
   ]
  },
  {
   "cell_type": "code",
   "execution_count": 12,
   "metadata": {
    "collapsed": false
   },
   "outputs": [
    {
     "data": {
      "text/plain": [
       "Giant Slalom      67\n",
       "Slalom            49\n",
       "Super Combined     8\n",
       "Super G            2\n",
       "Downhill           1\n",
       "Name: disciplina, dtype: int64"
      ]
     },
     "execution_count": 12,
     "metadata": {},
     "output_type": "execute_result"
    }
   ],
   "source": [
    "brem['disciplina'].value_counts()"
   ]
  },
  {
   "cell_type": "markdown",
   "metadata": {},
   "source": [
    "Eva-Maria Brem je torej najpogosteje tekmuje v slalomu in veleslalomu. Ponazorimo to še z grafom:"
   ]
  },
  {
   "cell_type": "code",
   "execution_count": 13,
   "metadata": {
    "collapsed": false
   },
   "outputs": [
    {
     "data": {
      "text/plain": [
       "<matplotlib.axes._subplots.AxesSubplot at 0x5cf25b0>"
      ]
     },
     "execution_count": 13,
     "metadata": {},
     "output_type": "execute_result"
    },
    {
     "data": {
      "image/png": "[encoded data removed]",
      "text/plain": [
       "<matplotlib.figure.Figure at 0x5cdb450>"
      ]
     },
     "metadata": {},
     "output_type": "display_data"
    }
   ],
   "source": [
    "brem['disciplina'].value_counts().plot(kind='pie', figsize=(6,6))"
   ]
  },
  {
   "cell_type": "markdown",
   "metadata": {
    "collapsed": true
   },
   "source": [
    "Čeprav najpogosteje tekmuje v slalomu in veleslalomu, pa to nista nujno disciplini, v katerih dosega najboljše rezultate. Najprej si poglejmo, kakšni so njeni rezultati v slalomu in nato še veleslalomu:"
   ]
  },
  {
   "cell_type": "code",
   "execution_count": 14,
   "metadata": {
    "collapsed": false
   },
   "outputs": [
    {
     "data": {
      "text/html": [
       "<div>\n",
       "<table border=\"1\" class=\"dataframe\">\n",
       "  <thead>\n",
       "    <tr style=\"text-align: right;\">\n",
       "      <th></th>\n",
       "      <th>datum</th>\n",
       "      <th>kraj</th>\n",
       "      <th>disciplina</th>\n",
       "      <th>mesto</th>\n",
       "      <th>mesto1</th>\n",
       "      <th>tocke</th>\n",
       "    </tr>\n",
       "  </thead>\n",
       "  <tbody>\n",
       "    <tr>\n",
       "      <th>2</th>\n",
       "      <td>2016-06-03</td>\n",
       "      <td>Jasna</td>\n",
       "      <td>Slalom</td>\n",
       "      <td>26</td>\n",
       "      <td>26</td>\n",
       "      <td>5</td>\n",
       "    </tr>\n",
       "    <tr>\n",
       "      <th>3</th>\n",
       "      <td>2016-02-15</td>\n",
       "      <td>Crans Montana</td>\n",
       "      <td>Slalom</td>\n",
       "      <td>DNQ1</td>\n",
       "      <td>0</td>\n",
       "      <td>0</td>\n",
       "    </tr>\n",
       "    <tr>\n",
       "      <th>6</th>\n",
       "      <td>2016-01-15</td>\n",
       "      <td>Flachau</td>\n",
       "      <td>Slalom</td>\n",
       "      <td>26</td>\n",
       "      <td>26</td>\n",
       "      <td>5</td>\n",
       "    </tr>\n",
       "    <tr>\n",
       "      <th>7</th>\n",
       "      <td>2016-12-01</td>\n",
       "      <td>Flachau</td>\n",
       "      <td>Slalom</td>\n",
       "      <td>26</td>\n",
       "      <td>26</td>\n",
       "      <td>5</td>\n",
       "    </tr>\n",
       "    <tr>\n",
       "      <th>8</th>\n",
       "      <td>2016-05-01</td>\n",
       "      <td>Santa Caterina Valfurva</td>\n",
       "      <td>Slalom</td>\n",
       "      <td>26</td>\n",
       "      <td>26</td>\n",
       "      <td>5</td>\n",
       "    </tr>\n",
       "    <tr>\n",
       "      <th>9</th>\n",
       "      <td>2015-12-29</td>\n",
       "      <td>Lienz</td>\n",
       "      <td>Slalom</td>\n",
       "      <td>21</td>\n",
       "      <td>21</td>\n",
       "      <td>10</td>\n",
       "    </tr>\n",
       "    <tr>\n",
       "      <th>12</th>\n",
       "      <td>2015-12-13</td>\n",
       "      <td>Are</td>\n",
       "      <td>Slalom</td>\n",
       "      <td>17</td>\n",
       "      <td>17</td>\n",
       "      <td>14</td>\n",
       "    </tr>\n",
       "    <tr>\n",
       "      <th>14</th>\n",
       "      <td>2015-11-29</td>\n",
       "      <td>Aspen, CO</td>\n",
       "      <td>Slalom</td>\n",
       "      <td>DNQ1</td>\n",
       "      <td>0</td>\n",
       "      <td>0</td>\n",
       "    </tr>\n",
       "    <tr>\n",
       "      <th>15</th>\n",
       "      <td>2015-11-28</td>\n",
       "      <td>Aspen, CO</td>\n",
       "      <td>Slalom</td>\n",
       "      <td>20</td>\n",
       "      <td>20</td>\n",
       "      <td>11</td>\n",
       "    </tr>\n",
       "    <tr>\n",
       "      <th>19</th>\n",
       "      <td>2015-03-14</td>\n",
       "      <td>Are</td>\n",
       "      <td>Slalom</td>\n",
       "      <td>27</td>\n",
       "      <td>27</td>\n",
       "      <td>4</td>\n",
       "    </tr>\n",
       "  </tbody>\n",
       "</table>\n",
       "</div>"
      ],
      "text/plain": [
       "        datum                     kraj disciplina mesto  mesto1  tocke\n",
       "2  2016-06-03                    Jasna     Slalom    26      26      5\n",
       "3  2016-02-15            Crans Montana     Slalom  DNQ1       0      0\n",
       "6  2016-01-15                  Flachau     Slalom    26      26      5\n",
       "7  2016-12-01                  Flachau     Slalom    26      26      5\n",
       "8  2016-05-01  Santa Caterina Valfurva     Slalom    26      26      5\n",
       "9  2015-12-29                    Lienz     Slalom    21      21     10\n",
       "12 2015-12-13                      Are     Slalom    17      17     14\n",
       "14 2015-11-29                Aspen, CO     Slalom  DNQ1       0      0\n",
       "15 2015-11-28                Aspen, CO     Slalom    20      20     11\n",
       "19 2015-03-14                      Are     Slalom    27      27      4"
      ]
     },
     "execution_count": 14,
     "metadata": {},
     "output_type": "execute_result"
    }
   ],
   "source": [
    "slalom = brem['disciplina'] == 'Slalom'\n",
    "brem[slalom][:10]"
   ]
  },
  {
   "cell_type": "code",
   "execution_count": 15,
   "metadata": {
    "collapsed": false
   },
   "outputs": [
    {
     "data": {
      "text/html": [
       "<div>\n",
       "<table border=\"1\" class=\"dataframe\">\n",
       "  <thead>\n",
       "    <tr style=\"text-align: right;\">\n",
       "      <th></th>\n",
       "      <th>datum</th>\n",
       "      <th>kraj</th>\n",
       "      <th>disciplina</th>\n",
       "      <th>mesto</th>\n",
       "      <th>mesto1</th>\n",
       "      <th>tocke</th>\n",
       "    </tr>\n",
       "  </thead>\n",
       "  <tbody>\n",
       "    <tr>\n",
       "      <th>0</th>\n",
       "      <td>2016-03-20</td>\n",
       "      <td>St. Moritz</td>\n",
       "      <td>Giant Slalom</td>\n",
       "      <td>4</td>\n",
       "      <td>4</td>\n",
       "      <td>50</td>\n",
       "    </tr>\n",
       "    <tr>\n",
       "      <th>1</th>\n",
       "      <td>2016-07-03</td>\n",
       "      <td>Jasna</td>\n",
       "      <td>Giant Slalom</td>\n",
       "      <td>1</td>\n",
       "      <td>1</td>\n",
       "      <td>100</td>\n",
       "    </tr>\n",
       "    <tr>\n",
       "      <th>4</th>\n",
       "      <td>2016-01-30</td>\n",
       "      <td>Maribor</td>\n",
       "      <td>Giant Slalom</td>\n",
       "      <td>4</td>\n",
       "      <td>4</td>\n",
       "      <td>50</td>\n",
       "    </tr>\n",
       "    <tr>\n",
       "      <th>5</th>\n",
       "      <td>2016-01-17</td>\n",
       "      <td>Flachau</td>\n",
       "      <td>Giant Slalom</td>\n",
       "      <td>4</td>\n",
       "      <td>4</td>\n",
       "      <td>50</td>\n",
       "    </tr>\n",
       "    <tr>\n",
       "      <th>10</th>\n",
       "      <td>2015-12-28</td>\n",
       "      <td>Lienz</td>\n",
       "      <td>Giant Slalom</td>\n",
       "      <td>4</td>\n",
       "      <td>4</td>\n",
       "      <td>50</td>\n",
       "    </tr>\n",
       "    <tr>\n",
       "      <th>11</th>\n",
       "      <td>2015-12-20</td>\n",
       "      <td>Courchevel</td>\n",
       "      <td>Giant Slalom</td>\n",
       "      <td>1</td>\n",
       "      <td>1</td>\n",
       "      <td>100</td>\n",
       "    </tr>\n",
       "    <tr>\n",
       "      <th>13</th>\n",
       "      <td>2015-12-12</td>\n",
       "      <td>Are</td>\n",
       "      <td>Giant Slalom</td>\n",
       "      <td>2</td>\n",
       "      <td>2</td>\n",
       "      <td>80</td>\n",
       "    </tr>\n",
       "    <tr>\n",
       "      <th>16</th>\n",
       "      <td>2015-11-27</td>\n",
       "      <td>Aspen, CO</td>\n",
       "      <td>Giant Slalom</td>\n",
       "      <td>2</td>\n",
       "      <td>2</td>\n",
       "      <td>80</td>\n",
       "    </tr>\n",
       "    <tr>\n",
       "      <th>17</th>\n",
       "      <td>2015-10-24</td>\n",
       "      <td>Soelden</td>\n",
       "      <td>Giant Slalom</td>\n",
       "      <td>8</td>\n",
       "      <td>8</td>\n",
       "      <td>32</td>\n",
       "    </tr>\n",
       "    <tr>\n",
       "      <th>18</th>\n",
       "      <td>2015-03-22</td>\n",
       "      <td>Meribel</td>\n",
       "      <td>Giant Slalom</td>\n",
       "      <td>2</td>\n",
       "      <td>2</td>\n",
       "      <td>80</td>\n",
       "    </tr>\n",
       "  </tbody>\n",
       "</table>\n",
       "</div>"
      ],
      "text/plain": [
       "        datum        kraj    disciplina mesto  mesto1  tocke\n",
       "0  2016-03-20  St. Moritz  Giant Slalom     4       4     50\n",
       "1  2016-07-03       Jasna  Giant Slalom     1       1    100\n",
       "4  2016-01-30     Maribor  Giant Slalom     4       4     50\n",
       "5  2016-01-17     Flachau  Giant Slalom     4       4     50\n",
       "10 2015-12-28       Lienz  Giant Slalom     4       4     50\n",
       "11 2015-12-20  Courchevel  Giant Slalom     1       1    100\n",
       "13 2015-12-12         Are  Giant Slalom     2       2     80\n",
       "16 2015-11-27   Aspen, CO  Giant Slalom     2       2     80\n",
       "17 2015-10-24     Soelden  Giant Slalom     8       8     32\n",
       "18 2015-03-22     Meribel  Giant Slalom     2       2     80"
      ]
     },
     "execution_count": 15,
     "metadata": {},
     "output_type": "execute_result"
    }
   ],
   "source": [
    "veleslalom = brem['disciplina'] == 'Giant Slalom'\n",
    "brem[veleslalom][:10]"
   ]
  },
  {
   "cell_type": "markdown",
   "metadata": {},
   "source": [
    "Iz tabel je razvidno, da so njeni razultati v slalomu v vačini na repu trideseterice, med tem ko se v veleslalomu uvršča med 5 najboljših. To se še lepše vidi z grafov:"
   ]
  },
  {
   "cell_type": "code",
   "execution_count": 16,
   "metadata": {
    "collapsed": false
   },
   "outputs": [
    {
     "data": {
      "text/plain": [
       "<matplotlib.axes._subplots.AxesSubplot at 0x5d907d0>"
      ]
     },
     "execution_count": 16,
     "metadata": {},
     "output_type": "execute_result"
    },
    {
     "data": {
      "image/png": "[encoded data removed]",
      "text/plain": [
       "<matplotlib.figure.Figure at 0x5d78d50>"
      ]
     },
     "metadata": {},
     "output_type": "display_data"
    }
   ],
   "source": [
    "brem[slalom]['mesto1'].value_counts().plot(kind='bar', title=\"Rezultati E. M. Brem v slalomu\")"
   ]
  },
  {
   "cell_type": "code",
   "execution_count": 17,
   "metadata": {
    "collapsed": false
   },
   "outputs": [
    {
     "data": {
      "text/plain": [
       "<matplotlib.axes._subplots.AxesSubplot at 0x5e37110>"
      ]
     },
     "execution_count": 17,
     "metadata": {},
     "output_type": "execute_result"
    },
    {
     "data": {
      "image/png": "[encoded data removed]",
      "text/plain": [
       "<matplotlib.figure.Figure at 0x5e6d1d0>"
      ]
     },
     "metadata": {},
     "output_type": "display_data"
    }
   ],
   "source": [
    "brem[veleslalom]['mesto1'].value_counts().plot(kind='bar', title='Rezultati E. M. Brem v veleslalomu')"
   ]
  },
  {
   "cell_type": "markdown",
   "metadata": {},
   "source": [
    "Poglejmo še koliko točk je v povprečju osvojila pri posamezni disciplini, da določimo njeno \"paradno disciplino\"."
   ]
  },
  {
   "cell_type": "code",
   "execution_count": 18,
   "metadata": {
    "collapsed": false
   },
   "outputs": [
    {
     "data": {
      "text/plain": [
       "disciplina\n",
       "Downhill          0.00000\n",
       "Giant Slalom      0.92259\n",
       "Slalom            0.05258\n",
       "Super Combined    0.02483\n",
       "Super G           0.00000\n",
       "Name: tocke, dtype: float64"
      ]
     },
     "execution_count": 18,
     "metadata": {},
     "output_type": "execute_result"
    }
   ],
   "source": [
    "brem.groupby(['disciplina'])['tocke'].sum() / brem['tocke'].sum()"
   ]
  },
  {
   "cell_type": "markdown",
   "metadata": {},
   "source": [
    "Veleslalom je torej precej očitno disciplina, ki ji prinaša največ točk."
   ]
  },
  {
   "cell_type": "markdown",
   "metadata": {},
   "source": [
    "Poglejmo si še podatke za letošnjo sezono. Prva tekma je bila 24. 10. 2015 v Soeldnu."
   ]
  },
  {
   "cell_type": "code",
   "execution_count": 19,
   "metadata": {
    "collapsed": false
   },
   "outputs": [
    {
     "data": {
      "text/html": [
       "<div>\n",
       "<table border=\"1\" class=\"dataframe\">\n",
       "  <thead>\n",
       "    <tr style=\"text-align: right;\">\n",
       "      <th></th>\n",
       "      <th>datum</th>\n",
       "      <th>kraj</th>\n",
       "      <th>disciplina</th>\n",
       "      <th>mesto</th>\n",
       "      <th>mesto1</th>\n",
       "      <th>tocke</th>\n",
       "    </tr>\n",
       "  </thead>\n",
       "  <tbody>\n",
       "    <tr>\n",
       "      <th>0</th>\n",
       "      <td>2016-03-20</td>\n",
       "      <td>St. Moritz</td>\n",
       "      <td>Giant Slalom</td>\n",
       "      <td>4</td>\n",
       "      <td>4</td>\n",
       "      <td>50</td>\n",
       "    </tr>\n",
       "    <tr>\n",
       "      <th>1</th>\n",
       "      <td>2016-07-03</td>\n",
       "      <td>Jasna</td>\n",
       "      <td>Giant Slalom</td>\n",
       "      <td>1</td>\n",
       "      <td>1</td>\n",
       "      <td>100</td>\n",
       "    </tr>\n",
       "    <tr>\n",
       "      <th>2</th>\n",
       "      <td>2016-06-03</td>\n",
       "      <td>Jasna</td>\n",
       "      <td>Slalom</td>\n",
       "      <td>26</td>\n",
       "      <td>26</td>\n",
       "      <td>5</td>\n",
       "    </tr>\n",
       "    <tr>\n",
       "      <th>3</th>\n",
       "      <td>2016-02-15</td>\n",
       "      <td>Crans Montana</td>\n",
       "      <td>Slalom</td>\n",
       "      <td>DNQ1</td>\n",
       "      <td>0</td>\n",
       "      <td>0</td>\n",
       "    </tr>\n",
       "    <tr>\n",
       "      <th>4</th>\n",
       "      <td>2016-01-30</td>\n",
       "      <td>Maribor</td>\n",
       "      <td>Giant Slalom</td>\n",
       "      <td>4</td>\n",
       "      <td>4</td>\n",
       "      <td>50</td>\n",
       "    </tr>\n",
       "    <tr>\n",
       "      <th>5</th>\n",
       "      <td>2016-01-17</td>\n",
       "      <td>Flachau</td>\n",
       "      <td>Giant Slalom</td>\n",
       "      <td>4</td>\n",
       "      <td>4</td>\n",
       "      <td>50</td>\n",
       "    </tr>\n",
       "    <tr>\n",
       "      <th>6</th>\n",
       "      <td>2016-01-15</td>\n",
       "      <td>Flachau</td>\n",
       "      <td>Slalom</td>\n",
       "      <td>26</td>\n",
       "      <td>26</td>\n",
       "      <td>5</td>\n",
       "    </tr>\n",
       "    <tr>\n",
       "      <th>7</th>\n",
       "      <td>2016-12-01</td>\n",
       "      <td>Flachau</td>\n",
       "      <td>Slalom</td>\n",
       "      <td>26</td>\n",
       "      <td>26</td>\n",
       "      <td>5</td>\n",
       "    </tr>\n",
       "    <tr>\n",
       "      <th>8</th>\n",
       "      <td>2016-05-01</td>\n",
       "      <td>Santa Caterina Valfurva</td>\n",
       "      <td>Slalom</td>\n",
       "      <td>26</td>\n",
       "      <td>26</td>\n",
       "      <td>5</td>\n",
       "    </tr>\n",
       "    <tr>\n",
       "      <th>9</th>\n",
       "      <td>2015-12-29</td>\n",
       "      <td>Lienz</td>\n",
       "      <td>Slalom</td>\n",
       "      <td>21</td>\n",
       "      <td>21</td>\n",
       "      <td>10</td>\n",
       "    </tr>\n",
       "    <tr>\n",
       "      <th>10</th>\n",
       "      <td>2015-12-28</td>\n",
       "      <td>Lienz</td>\n",
       "      <td>Giant Slalom</td>\n",
       "      <td>4</td>\n",
       "      <td>4</td>\n",
       "      <td>50</td>\n",
       "    </tr>\n",
       "    <tr>\n",
       "      <th>11</th>\n",
       "      <td>2015-12-20</td>\n",
       "      <td>Courchevel</td>\n",
       "      <td>Giant Slalom</td>\n",
       "      <td>1</td>\n",
       "      <td>1</td>\n",
       "      <td>100</td>\n",
       "    </tr>\n",
       "    <tr>\n",
       "      <th>12</th>\n",
       "      <td>2015-12-13</td>\n",
       "      <td>Are</td>\n",
       "      <td>Slalom</td>\n",
       "      <td>17</td>\n",
       "      <td>17</td>\n",
       "      <td>14</td>\n",
       "    </tr>\n",
       "    <tr>\n",
       "      <th>13</th>\n",
       "      <td>2015-12-12</td>\n",
       "      <td>Are</td>\n",
       "      <td>Giant Slalom</td>\n",
       "      <td>2</td>\n",
       "      <td>2</td>\n",
       "      <td>80</td>\n",
       "    </tr>\n",
       "    <tr>\n",
       "      <th>14</th>\n",
       "      <td>2015-11-29</td>\n",
       "      <td>Aspen, CO</td>\n",
       "      <td>Slalom</td>\n",
       "      <td>DNQ1</td>\n",
       "      <td>0</td>\n",
       "      <td>0</td>\n",
       "    </tr>\n",
       "    <tr>\n",
       "      <th>15</th>\n",
       "      <td>2015-11-28</td>\n",
       "      <td>Aspen, CO</td>\n",
       "      <td>Slalom</td>\n",
       "      <td>20</td>\n",
       "      <td>20</td>\n",
       "      <td>11</td>\n",
       "    </tr>\n",
       "    <tr>\n",
       "      <th>16</th>\n",
       "      <td>2015-11-27</td>\n",
       "      <td>Aspen, CO</td>\n",
       "      <td>Giant Slalom</td>\n",
       "      <td>2</td>\n",
       "      <td>2</td>\n",
       "      <td>80</td>\n",
       "    </tr>\n",
       "    <tr>\n",
       "      <th>17</th>\n",
       "      <td>2015-10-24</td>\n",
       "      <td>Soelden</td>\n",
       "      <td>Giant Slalom</td>\n",
       "      <td>8</td>\n",
       "      <td>8</td>\n",
       "      <td>32</td>\n",
       "    </tr>\n",
       "  </tbody>\n",
       "</table>\n",
       "</div>"
      ],
      "text/plain": [
       "        datum                     kraj    disciplina mesto  mesto1  tocke\n",
       "0  2016-03-20               St. Moritz  Giant Slalom     4       4     50\n",
       "1  2016-07-03                    Jasna  Giant Slalom     1       1    100\n",
       "2  2016-06-03                    Jasna        Slalom    26      26      5\n",
       "3  2016-02-15            Crans Montana        Slalom  DNQ1       0      0\n",
       "4  2016-01-30                  Maribor  Giant Slalom     4       4     50\n",
       "5  2016-01-17                  Flachau  Giant Slalom     4       4     50\n",
       "6  2016-01-15                  Flachau        Slalom    26      26      5\n",
       "7  2016-12-01                  Flachau        Slalom    26      26      5\n",
       "8  2016-05-01  Santa Caterina Valfurva        Slalom    26      26      5\n",
       "9  2015-12-29                    Lienz        Slalom    21      21     10\n",
       "10 2015-12-28                    Lienz  Giant Slalom     4       4     50\n",
       "11 2015-12-20               Courchevel  Giant Slalom     1       1    100\n",
       "12 2015-12-13                      Are        Slalom    17      17     14\n",
       "13 2015-12-12                      Are  Giant Slalom     2       2     80\n",
       "14 2015-11-29                Aspen, CO        Slalom  DNQ1       0      0\n",
       "15 2015-11-28                Aspen, CO        Slalom    20      20     11\n",
       "16 2015-11-27                Aspen, CO  Giant Slalom     2       2     80\n",
       "17 2015-10-24                  Soelden  Giant Slalom     8       8     32"
      ]
     },
     "execution_count": 19,
     "metadata": {},
     "output_type": "execute_result"
    }
   ],
   "source": [
    "prvi_del = brem[brem['datum'].dt.year == 2016]\n",
    "drugi_del = brem[(brem['datum'].dt.month > 9) & (brem['datum'].dt.year == 2015)]\n",
    "tabela = prvi_del.append(drugi_del)\n",
    "tabela"
   ]
  },
  {
   "cell_type": "markdown",
   "metadata": {},
   "source": [
    "Ker si z datumi ne moremo pomagati, glejmo le dosežena mesta:"
   ]
  },
  {
   "cell_type": "code",
   "execution_count": 20,
   "metadata": {
    "collapsed": false
   },
   "outputs": [
    {
     "data": {
      "text/plain": [
       "<matplotlib.axes._subplots.AxesSubplot at 0x606b490>"
      ]
     },
     "execution_count": 20,
     "metadata": {},
     "output_type": "execute_result"
    },
    {
     "data": {
      "image/png": "[encoded data removed]",
      "text/plain": [
       "<matplotlib.figure.Figure at 0x60576f0>"
      ]
     },
     "metadata": {},
     "output_type": "display_data"
    }
   ],
   "source": [
    "tabela['mesto1'].value_counts().plot(kind='pie')"
   ]
  },
  {
   "cell_type": "markdown",
   "metadata": {},
   "source": [
    "Podoben graf si poglejmo posebej še za veleslalom:"
   ]
  },
  {
   "cell_type": "code",
   "execution_count": 21,
   "metadata": {
    "collapsed": false
   },
   "outputs": [
    {
     "data": {
      "text/plain": [
       "<matplotlib.axes._subplots.AxesSubplot at 0x5fd2350>"
      ]
     },
     "execution_count": 21,
     "metadata": {},
     "output_type": "execute_result"
    },
    {
     "data": {
      "image/png": "[encoded data removed]",
      "text/plain": [
       "<matplotlib.figure.Figure at 0x608b350>"
      ]
     },
     "metadata": {},
     "output_type": "display_data"
    }
   ],
   "source": [
    "tabela[tabela['disciplina'] == 'Giant Slalom']['mesto1'].value_counts().plot(kind='pie')"
   ]
  },
  {
   "cell_type": "markdown",
   "metadata": {},
   "source": [
    "Opazimo, da ena uvrstitev odstopa: to je njena prva uvrstitev v sezoni: \"le\" 8. mesto v Soeldnu 24. 10. 2015."
   ]
  },
  {
   "cell_type": "markdown",
   "metadata": {},
   "source": [
    "Poglejmo si še analizo po prizoriščih. Postavimo si vprašanje, kje dosega boljše rezultate."
   ]
  },
  {
   "cell_type": "code",
   "execution_count": 22,
   "metadata": {
    "collapsed": false
   },
   "outputs": [
    {
     "data": {
      "text/plain": [
       "kraj\n",
       "Are           0.199611\n",
       "Aspen         0.083739\n",
       "Courchevel    0.070107\n",
       "Soelden       0.064752\n",
       "Jasna         0.051120\n",
       "Lienz         0.050633\n",
       "Aspen, CO     0.047712\n",
       "Name: tocke, dtype: float64"
      ]
     },
     "execution_count": 22,
     "metadata": {},
     "output_type": "execute_result"
    }
   ],
   "source": [
    "po_krajih = brem.groupby(['kraj'])['tocke'].sum() / brem['tocke'].sum()\n",
    "po_krajih.nlargest(7)"
   ]
  },
  {
   "cell_type": "markdown",
   "metadata": {},
   "source": [
    "V Are-ju je osvojila kar 20 % vseh svojih točk. Ali tam dosega tudi najvišja mesta?"
   ]
  },
  {
   "cell_type": "code",
   "execution_count": 23,
   "metadata": {
    "collapsed": false
   },
   "outputs": [
    {
     "data": {
      "text/plain": [
       "kraj\n",
       "Meribel         80.000000\n",
       "Jasna           52.500000\n",
       "Lenzerheide     49.000000\n",
       "Panorama, BC    45.000000\n",
       "Courchevel      36.000000\n",
       "Are             27.333333\n",
       "Schladming      26.000000\n",
       "Name: tocke, dtype: float64"
      ]
     },
     "execution_count": 23,
     "metadata": {},
     "output_type": "execute_result"
    }
   ],
   "source": [
    "po_krajih1 = brem.groupby(['kraj'])['tocke'].mean()\n",
    "po_krajih1.nlargest(7)"
   ]
  },
  {
   "cell_type": "markdown",
   "metadata": {},
   "source": [
    "Najvišja mesta očitno dosega v Meribelu. Da rezultate še bolje razložimo, poglejmo, koliko tekem se je Eva-Maria Brem udeležila v posameznem kraju."
   ]
  },
  {
   "cell_type": "code",
   "execution_count": 24,
   "metadata": {
    "collapsed": false
   },
   "outputs": [
    {
     "data": {
      "text/plain": [
       "kraj\n",
       "Are                        15\n",
       "Maribor                     9\n",
       "Aspen                       8\n",
       "Soelden                     8\n",
       "Ofterschwang                8\n",
       "Flachau                     8\n",
       "Lienz                       8\n",
       "St. Moritz                  7\n",
       "Aspen, CO                   5\n",
       "Zagreb                      4\n",
       "Semmering                   4\n",
       "Courchevel                  4\n",
       "Levi                        3\n",
       "Val d'Isere                 3\n",
       "Kranjska Gora               3\n",
       "Crans Montana               3\n",
       "Cortina d'Ampezzo           2\n",
       "Bormio                      2\n",
       "Jasna                       2\n",
       "Lenzerheide                 2\n",
       "Kuehtai in Tirol            2\n",
       "La Molina                   2\n",
       "Soldeu-Grandvalira          2\n",
       "Spindleruv Mlyn             2\n",
       "Altenmarkt-Zauchensee       2\n",
       "Garmisch Partenkirchen      1\n",
       "Meribel                     1\n",
       "Panorama, BC                1\n",
       "Santa Caterina Valfurva     1\n",
       "Schladming                  1\n",
       "Beaver Creek                1\n",
       "St. Anton/Arlberg           1\n",
       "Tarvisio                    1\n",
       "Arber-Zwiesel               1\n",
       "dtype: int64"
      ]
     },
     "execution_count": 24,
     "metadata": {},
     "output_type": "execute_result"
    }
   ],
   "source": [
    "brem.groupby(['kraj']).size().sort_values(ascending = False)"
   ]
  },
  {
   "cell_type": "markdown",
   "metadata": {},
   "source": [
    "V Are-ju se E. M. Brem je udeležila daleč največ tekem, zato ni čudno, da je tam osvojila največ točk. Prav tako ne moremo trditi, da je Meribel njeno \"najboljše\" prizorišče, saj je tam tekmovala na le eni tekmi."
   ]
  },
  {
   "cell_type": "markdown",
   "metadata": {},
   "source": [
    "### Analiza več tekmovalcev"
   ]
  },
  {
   "cell_type": "markdown",
   "metadata": {},
   "source": [
    "V tem razdelku bomo imeli nekaj težav, saj na strani, iz katere pobiramo podatke, ni zapisa o spolu tekmovalca.  \n",
    "Najprej pa poglejmo rezultate za sezono 2015/16."
   ]
  },
  {
   "cell_type": "code",
   "execution_count": 25,
   "metadata": {
    "collapsed": false
   },
   "outputs": [
    {
     "data": {
      "text/html": [
       "<div>\n",
       "<table border=\"1\" class=\"dataframe\">\n",
       "  <thead>\n",
       "    <tr style=\"text-align: right;\">\n",
       "      <th></th>\n",
       "      <th>datum</th>\n",
       "      <th>disciplina</th>\n",
       "      <th>id</th>\n",
       "      <th>kraj</th>\n",
       "      <th>mesto</th>\n",
       "      <th>mesto1</th>\n",
       "      <th>tocke</th>\n",
       "    </tr>\n",
       "  </thead>\n",
       "  <tbody>\n",
       "    <tr>\n",
       "      <th>232</th>\n",
       "      <td>2016-10-01</td>\n",
       "      <td>Slalom</td>\n",
       "      <td>80000</td>\n",
       "      <td>Adelboden</td>\n",
       "      <td>22</td>\n",
       "      <td>22</td>\n",
       "      <td>9</td>\n",
       "    </tr>\n",
       "    <tr>\n",
       "      <th>233</th>\n",
       "      <td>2016-06-01</td>\n",
       "      <td>Slalom</td>\n",
       "      <td>80000</td>\n",
       "      <td>Santa Caterina Valfurva</td>\n",
       "      <td>DNQ1</td>\n",
       "      <td>0</td>\n",
       "      <td>0</td>\n",
       "    </tr>\n",
       "    <tr>\n",
       "      <th>293</th>\n",
       "      <td>2016-03-16</td>\n",
       "      <td>Downhill</td>\n",
       "      <td>120086</td>\n",
       "      <td>St. Moritz</td>\n",
       "      <td>10</td>\n",
       "      <td>10</td>\n",
       "      <td>26</td>\n",
       "    </tr>\n",
       "    <tr>\n",
       "      <th>294</th>\n",
       "      <td>2016-03-13</td>\n",
       "      <td>Alpine combined</td>\n",
       "      <td>120086</td>\n",
       "      <td>Lenzerheide</td>\n",
       "      <td>18</td>\n",
       "      <td>18</td>\n",
       "      <td>13</td>\n",
       "    </tr>\n",
       "    <tr>\n",
       "      <th>295</th>\n",
       "      <td>2016-12-03</td>\n",
       "      <td>Super G</td>\n",
       "      <td>120086</td>\n",
       "      <td>Lenzerheide</td>\n",
       "      <td>34</td>\n",
       "      <td>34</td>\n",
       "      <td>0</td>\n",
       "    </tr>\n",
       "    <tr>\n",
       "      <th>296</th>\n",
       "      <td>2016-02-28</td>\n",
       "      <td>Alpine combined</td>\n",
       "      <td>120086</td>\n",
       "      <td>Soldeu- El Tarter</td>\n",
       "      <td>DNF2</td>\n",
       "      <td>0</td>\n",
       "      <td>0</td>\n",
       "    </tr>\n",
       "  </tbody>\n",
       "</table>\n",
       "</div>"
      ],
      "text/plain": [
       "         datum       disciplina      id                     kraj mesto  mesto1  tocke\n",
       "232 2016-10-01           Slalom   80000                Adelboden    22      22      9\n",
       "233 2016-06-01           Slalom   80000  Santa Caterina Valfurva  DNQ1       0      0\n",
       "293 2016-03-16         Downhill  120086               St. Moritz    10      10     26\n",
       "294 2016-03-13  Alpine combined  120086              Lenzerheide    18      18     13\n",
       "295 2016-12-03          Super G  120086              Lenzerheide    34      34      0\n",
       "296 2016-02-28  Alpine combined  120086        Soldeu- El Tarter  DNF2       0      0"
      ]
     },
     "execution_count": 25,
     "metadata": {},
     "output_type": "execute_result"
    }
   ],
   "source": [
    "sezona = vse[vse['datum'].dt.year == 2016]\n",
    "drugi_del_vse = vse[(vse['datum'].dt.month > 9) & (vse['datum'].dt.year == 2015)]\n",
    "sezona.append(drugi_del)[40:46]"
   ]
  },
  {
   "cell_type": "markdown",
   "metadata": {},
   "source": [
    "Zanima nas, koliko nastopov so zbrali tekmovalci v letošnji sezoni. Prikazujemo število nastopov za 10 tekmovalcev."
   ]
  },
  {
   "cell_type": "code",
   "execution_count": 26,
   "metadata": {
    "collapsed": false
   },
   "outputs": [
    {
     "data": {
      "text/plain": [
       "id\n",
       "2820      2\n",
       "4588      1\n",
       "5469      6\n",
       "8288      8\n",
       "10054    13\n",
       "10394    11\n",
       "11090    13\n",
       "11353     6\n",
       "11929    10\n",
       "13418     3\n",
       "dtype: int64"
      ]
     },
     "execution_count": 26,
     "metadata": {},
     "output_type": "execute_result"
    }
   ],
   "source": [
    "sezona.groupby(['id']).size()[:10]"
   ]
  },
  {
   "cell_type": "code",
   "execution_count": 27,
   "metadata": {
    "collapsed": false
   },
   "outputs": [
    {
     "data": {
      "text/plain": [
       "21"
      ]
     },
     "execution_count": 27,
     "metadata": {},
     "output_type": "execute_result"
    }
   ],
   "source": [
    "sezona.groupby(['id']).size().max()"
   ]
  },
  {
   "cell_type": "markdown",
   "metadata": {},
   "source": [
    "Tekmovalec ali tekmovalka z največ nastopi je nastopila 21-krat. Kdo pa je to?"
   ]
  },
  {
   "cell_type": "code",
   "execution_count": 28,
   "metadata": {
    "collapsed": false
   },
   "outputs": [
    {
     "data": {
      "text/plain": [
       "id\n",
       "125871    21\n",
       "127048    21\n",
       "70282     20\n",
       "106332    20\n",
       "108784    20\n",
       "27657     19\n",
       "dtype: int64"
      ]
     },
     "execution_count": 28,
     "metadata": {},
     "output_type": "execute_result"
    }
   ],
   "source": [
    "nova = sezona.groupby(['id']).size()\n",
    "nova.nlargest(6)"
   ]
  },
  {
   "cell_type": "markdown",
   "metadata": {},
   "source": [
    "To sta torej dva tekmovalca in sicer z id številkama 125871 in 127048 - Lara Gut in Alexis Pinturault."
   ]
  },
  {
   "cell_type": "code",
   "execution_count": 29,
   "metadata": {
    "collapsed": false
   },
   "outputs": [
    {
     "name": "stdout",
     "output_type": "stream",
     "text": [
      "GUT  Lara ,  PINTURAULT  Alexis\n"
     ]
    }
   ],
   "source": [
    "print(smucarji.get_value(index = 125871, col = 'ime'), \", \", smucarji.get_value(index = 127048, col = 'ime'))"
   ]
  },
  {
   "cell_type": "markdown",
   "metadata": {},
   "source": [
    "Kdo pa je osvojil največ točk? Poglejmo 10 najboljših:"
   ]
  },
  {
   "cell_type": "code",
   "execution_count": 30,
   "metadata": {
    "collapsed": false
   },
   "outputs": [
    {
     "data": {
      "text/html": [
       "<div>\n",
       "<table border=\"1\" class=\"dataframe\">\n",
       "  <thead>\n",
       "    <tr style=\"text-align: right;\">\n",
       "      <th></th>\n",
       "      <th>tocke</th>\n",
       "    </tr>\n",
       "    <tr>\n",
       "      <th>id</th>\n",
       "      <th></th>\n",
       "    </tr>\n",
       "  </thead>\n",
       "  <tbody>\n",
       "    <tr>\n",
       "      <th>106332</th>\n",
       "      <td>1174</td>\n",
       "    </tr>\n",
       "    <tr>\n",
       "      <th>127048</th>\n",
       "      <td>1079</td>\n",
       "    </tr>\n",
       "    <tr>\n",
       "      <th>154950</th>\n",
       "      <td>933</td>\n",
       "    </tr>\n",
       "    <tr>\n",
       "      <th>125871</th>\n",
       "      <td>878</td>\n",
       "    </tr>\n",
       "    <tr>\n",
       "      <th>104502</th>\n",
       "      <td>823</td>\n",
       "    </tr>\n",
       "    <tr>\n",
       "      <th>27657</th>\n",
       "      <td>755</td>\n",
       "    </tr>\n",
       "    <tr>\n",
       "      <th>30368</th>\n",
       "      <td>749</td>\n",
       "    </tr>\n",
       "    <tr>\n",
       "      <th>107164</th>\n",
       "      <td>716</td>\n",
       "    </tr>\n",
       "    <tr>\n",
       "      <th>109079</th>\n",
       "      <td>658</td>\n",
       "    </tr>\n",
       "    <tr>\n",
       "      <th>137380</th>\n",
       "      <td>612</td>\n",
       "    </tr>\n",
       "  </tbody>\n",
       "</table>\n",
       "</div>"
      ],
      "text/plain": [
       "        tocke\n",
       "id           \n",
       "106332   1174\n",
       "127048   1079\n",
       "154950    933\n",
       "125871    878\n",
       "104502    823\n",
       "27657     755\n",
       "30368     749\n",
       "107164    716\n",
       "109079    658\n",
       "137380    612"
      ]
     },
     "execution_count": 30,
     "metadata": {},
     "output_type": "execute_result"
    }
   ],
   "source": [
    "sezona.groupby(['id']).agg({'tocke':sum}).nlargest(columns = 'tocke', n = 10)"
   ]
  },
  {
   "cell_type": "markdown",
   "metadata": {},
   "source": [
    "Še njihova imena:"
   ]
  },
  {
   "cell_type": "code",
   "execution_count": 31,
   "metadata": {
    "collapsed": false
   },
   "outputs": [
    {
     "name": "stdout",
     "output_type": "stream",
     "text": [
      "106332 :  HIRSCHER  Marcel\n",
      "127048 :  PINTURAULT  Alexis\n",
      "154950 :  KRISTOFFERSEN  Henrik\n",
      "125871 :  GUT  Lara\n",
      "104502 :  REBENSBURG  Viktoria\n",
      "27657 :  JANSRUD  Kjetil\n",
      "30368 :  VONN  Lindsey\n",
      "107164 :  WEIRATHER  Tina\n",
      "109079 :  PARIS  Dominik\n",
      "137380 :  KILDE  Aleksander Aamodt\n"
     ]
    }
   ],
   "source": [
    "naj = [106332,127048,154950,125871,104502,27657,30368,107164,109079,137380]\n",
    "for i in naj:\n",
    "    print(i,': ', smucarji.get_value(index = i, col = 'ime'))"
   ]
  },
  {
   "cell_type": "markdown",
   "metadata": {},
   "source": [
    "### Analiza narodnosti"
   ]
  },
  {
   "cell_type": "markdown",
   "metadata": {},
   "source": [
    "Zanima nas, koliko je smučarjev določene narodnosti. Najprej jih preštejmo, nato pa ponazorimo to z grafom:"
   ]
  },
  {
   "cell_type": "code",
   "execution_count": 32,
   "metadata": {
    "collapsed": false
   },
   "outputs": [
    {
     "data": {
      "text/plain": [
       "AUT    61\n",
       "SUI    45\n",
       "ITA    42\n",
       "FRA    39\n",
       "USA    31\n",
       "GER    26\n",
       "SWE    20\n",
       "NOR    18\n",
       "CAN    18\n",
       "SLO    15\n",
       "Name: drzava, dtype: int64"
      ]
     },
     "execution_count": 32,
     "metadata": {},
     "output_type": "execute_result"
    }
   ],
   "source": [
    "smucarji['drzava'].value_counts().head(10)"
   ]
  },
  {
   "cell_type": "code",
   "execution_count": 33,
   "metadata": {
    "collapsed": false
   },
   "outputs": [
    {
     "data": {
      "text/plain": [
       "<matplotlib.axes._subplots.AxesSubplot at 0x6128450>"
      ]
     },
     "execution_count": 33,
     "metadata": {},
     "output_type": "execute_result"
    },
    {
     "data": {
      "image/png": "[encoded data removed]",
      "text/plain": [
       "<matplotlib.figure.Figure at 0x60f9090>"
      ]
     },
     "metadata": {},
     "output_type": "display_data"
    }
   ],
   "source": [
    "smucarji['drzava'].value_counts().plot(kind='bar', figsize = (12,6))"
   ]
  },
  {
   "cell_type": "markdown",
   "metadata": {
    "collapsed": true
   },
   "source": [
    "### Analiza smuči"
   ]
  },
  {
   "cell_type": "markdown",
   "metadata": {},
   "source": [
    "Najprej si oglejmo, katere znamke smuči so najpogostejše v svetovnem pokalu:"
   ]
  },
  {
   "cell_type": "code",
   "execution_count": 34,
   "metadata": {
    "collapsed": false
   },
   "outputs": [
    {
     "data": {
      "text/plain": [
       "Head          76\n",
       "Rossignol     68\n",
       "Fischer       48\n",
       "Atomic        43\n",
       "Voelkl        32\n",
       "Salomon       25\n",
       "Stoeckli      20\n",
       "Nordica       14\n",
       "Dynastar       9\n",
       "Ni_podatka     9\n",
       "Blizzard       6\n",
       "Elan           4\n",
       "Hart           1\n",
       "Name: smuci, dtype: int64"
      ]
     },
     "execution_count": 34,
     "metadata": {},
     "output_type": "execute_result"
    }
   ],
   "source": [
    "smucarji['smuci'].value_counts()"
   ]
  },
  {
   "cell_type": "code",
   "execution_count": 35,
   "metadata": {
    "collapsed": false
   },
   "outputs": [
    {
     "data": {
      "text/plain": [
       "<matplotlib.axes._subplots.AxesSubplot at 0x61285b0>"
      ]
     },
     "execution_count": 35,
     "metadata": {},
     "output_type": "execute_result"
    },
    {
     "data": {
      "image/png": "[encoded data removed]",
      "text/plain": [
       "<matplotlib.figure.Figure at 0x61a09f0>"
      ]
     },
     "metadata": {},
     "output_type": "display_data"
    }
   ],
   "source": [
    "smucarji['smuci'].value_counts().plot(kind='pie', figsize=(6,6))"
   ]
  },
  {
   "cell_type": "markdown",
   "metadata": {},
   "source": [
    "Poglejmo, predstavniki katerih držav uporabljajo smuči Head (in koliko jih je):"
   ]
  },
  {
   "cell_type": "markdown",
   "metadata": {},
   "source": [
    "To do: naredi graf, ki bo prikazal to za vse smuči."
   ]
  },
  {
   "cell_type": "code",
   "execution_count": 36,
   "metadata": {
    "collapsed": false
   },
   "outputs": [
    {
     "data": {
      "text/plain": [
       "<matplotlib.axes._subplots.AxesSubplot at 0x61906b0>"
      ]
     },
     "execution_count": 36,
     "metadata": {},
     "output_type": "execute_result"
    },
    {
     "data": {
      "image/png": "[encoded data removed]",
      "text/plain": [
       "<matplotlib.figure.Figure at 0x61cf050>"
      ]
     },
     "metadata": {},
     "output_type": "display_data"
    }
   ],
   "source": [
    "smucarji[smucarji['smuci'] == \"Head\"]['drzava'].value_counts().plot(kind='bar')"
   ]
  },
  {
   "cell_type": "markdown",
   "metadata": {},
   "source": [
    "Podobno si lahko pogledamo, katerim proizvajalcem smuči najbolj zaupajo smučarji iz avstrije:"
   ]
  },
  {
   "cell_type": "code",
   "execution_count": 37,
   "metadata": {
    "collapsed": false
   },
   "outputs": [
    {
     "data": {
      "text/plain": [
       "<matplotlib.axes._subplots.AxesSubplot at 0x6259d30>"
      ]
     },
     "execution_count": 37,
     "metadata": {},
     "output_type": "execute_result"
    },
    {
     "data": {
      "image/png": "[encoded data removed]",
      "text/plain": [
       "<matplotlib.figure.Figure at 0x62572f0>"
      ]
     },
     "metadata": {},
     "output_type": "display_data"
    }
   ],
   "source": [
    "smucarji[smucarji['drzava'] == \"AUT\"]['smuci'].value_counts().plot(kind='bar')"
   ]
  },
  {
   "cell_type": "markdown",
   "metadata": {},
   "source": [
    "Z analizo enega samega proizvajalca oz. ene same države ne dobimo širše slike, zato si oglejmo graf, ki za vsako državo prikaže, smuči katerega proizvajalca uporabljajo njeni reprezentanti."
   ]
  },
  {
   "cell_type": "code",
   "execution_count": 38,
   "metadata": {
    "collapsed": false
   },
   "outputs": [
    {
     "data": {
      "text/plain": [
       "<matplotlib.legend.Legend at 0x6274c50>"
      ]
     },
     "execution_count": 38,
     "metadata": {},
     "output_type": "execute_result"
    },
    {
     "data": {
      "image/png": "[encoded data removed]",
      "text/plain": [
       "<matplotlib.figure.Figure at 0x6274890>"
      ]
     },
     "metadata": {},
     "output_type": "display_data"
    }
   ],
   "source": [
    "oboje = smucarji.groupby(['smuci','drzava']).size()\n",
    "priprava = oboje.unstack().plot(kind='barh', stacked=True, figsize=(20, 14), fontsize=12)\n",
    "priprava.legend(loc=(0.02,1), ncol=6)"
   ]
  },
  {
   "cell_type": "code",
   "execution_count": null,
   "metadata": {
    "collapsed": true
   },
   "outputs": [],
   "source": []
  }
 ],
 "metadata": {
  "kernelspec": {
   "display_name": "Python 3",
   "language": "python",
   "name": "python3"
  },
  "language_info": {
   "codemirror_mode": {
    "name": "ipython",
    "version": 3
   },
   "file_extension": ".py",
   "mimetype": "text/x-python",
   "name": "python",
   "nbconvert_exporter": "python",
   "pygments_lexer": "ipython3",
   "version": "3.5.1"
  }
 },
 "nbformat": 4,
 "nbformat_minor": 0
}
